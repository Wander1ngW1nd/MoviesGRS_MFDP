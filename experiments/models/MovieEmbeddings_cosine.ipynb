{
 "cells": [
  {
   "cell_type": "code",
   "execution_count": 1,
   "metadata": {
    "ExecuteTime": {
     "end_time": "2023-06-01T21:58:50.746421598Z",
     "start_time": "2023-06-01T21:58:47.936062781Z"
    }
   },
   "outputs": [
    {
     "data": {
      "text/plain": [
       "True"
      ]
     },
     "execution_count": 1,
     "metadata": {},
     "output_type": "execute_result"
    }
   ],
   "source": [
    "import sys; sys.path.insert(0, '..')\n",
    "\n",
    "import pandas as pd\n",
    "import numpy as np\n",
    "\n",
    "np.random.seed(42)\n",
    "\n",
    "from utils.evaluation import generate_recommendations, evaluate_recommendations\n",
    "from utils.recommender_data_preprocessor import get_movies, get_recommender_data\n",
    "\n",
    "from scipy.spatial.distance import cdist\n",
    "from sentence_transformers import SentenceTransformer\n",
    "\n",
    "import clearml\n",
    "\n",
    "from dotenv import load_dotenv\n",
    "\n",
    "load_dotenv()"
   ]
  },
  {
   "cell_type": "code",
   "execution_count": 2,
   "metadata": {
    "ExecuteTime": {
     "end_time": "2023-06-01T21:58:59.174165650Z",
     "start_time": "2023-06-01T21:58:50.745912491Z"
    }
   },
   "outputs": [
    {
     "name": "stderr",
     "output_type": "stream",
     "text": [
      "Retrying (Retry(total=239, connect=240, read=240, redirect=240, status=240)) after connection broken by 'SSLError(SSLZeroReturnError(6, 'TLS/SSL connection has been closed (EOF) (_ssl.c:992)'))': /auth.login\n",
      "Retrying (Retry(total=238, connect=240, read=240, redirect=240, status=240)) after connection broken by 'SSLError(SSLZeroReturnError(6, 'TLS/SSL connection has been closed (EOF) (_ssl.c:992)'))': /auth.login\n",
      "Retrying (Retry(total=237, connect=240, read=240, redirect=240, status=240)) after connection broken by 'SSLError(SSLZeroReturnError(6, 'TLS/SSL connection has been closed (EOF) (_ssl.c:992)'))': /auth.login\n",
      "Retrying (Retry(total=236, connect=240, read=240, redirect=240, status=240)) after connection broken by 'SSLError(SSLZeroReturnError(6, 'TLS/SSL connection has been closed (EOF) (_ssl.c:992)'))': /auth.login\n",
      "Retrying (Retry(total=235, connect=240, read=240, redirect=240, status=240)) after connection broken by 'SSLError(SSLZeroReturnError(6, 'TLS/SSL connection has been closed (EOF) (_ssl.c:992)'))': /auth.login\n"
     ]
    },
    {
     "name": "stdout",
     "output_type": "stream",
     "text": [
      "ClearML Task: created new task id=a2c1bf20d45041b7803b2702e4aa9193\n",
      "2023-06-05 17:48:08,928 - clearml.Task - INFO - Storing jupyter notebook directly as code\n",
      "ClearML results page: https://app.clear.ml/projects/f3cb8157bfe7443abdc531a44bb15332/experiments/a2c1bf20d45041b7803b2702e4aa9193/output/log\n"
     ]
    }
   ],
   "source": [
    "task = clearml.Task.init(\n",
    "    project_name=\"MoviesGRS_MFDP\",\n",
    "    task_name=\"MovieEmbeddingsRecommender\",\n",
    "    tags=[\"MovieEmbeddingsRecommender\", \"paraphrase-distilroberta-base-v1\"],\n",
    ")"
   ]
  },
  {
   "cell_type": "code",
   "execution_count": 3,
   "metadata": {
    "ExecuteTime": {
     "end_time": "2023-06-01T21:58:59.179214679Z",
     "start_time": "2023-06-01T21:58:59.175921020Z"
    }
   },
   "outputs": [],
   "source": [
    "GROUPS_LIST = [f\"group{i}\" for i in range(1, 8)]"
   ]
  },
  {
   "cell_type": "code",
   "execution_count": 4,
   "metadata": {
    "ExecuteTime": {
     "end_time": "2023-06-01T21:59:13.799918395Z",
     "start_time": "2023-06-01T21:58:59.180321463Z"
    }
   },
   "outputs": [],
   "source": [
    "recommender_data = get_recommender_data(GROUPS_LIST)"
   ]
  },
  {
   "cell_type": "code",
   "execution_count": 5,
   "metadata": {
    "ExecuteTime": {
     "end_time": "2023-06-01T21:59:27.058048655Z",
     "start_time": "2023-06-01T21:59:13.802039815Z"
    }
   },
   "outputs": [
    {
     "name": "stdout",
     "output_type": "stream",
     "text": [
      "2023-06-05 17:48:28,260 - clearml.model - INFO - Selected model id: edda0fad26674d208e01879b3a5cf727\n"
     ]
    },
    {
     "data": {
      "text/html": [
       "<div>\n",
       "<style scoped>\n",
       "    .dataframe tbody tr th:only-of-type {\n",
       "        vertical-align: middle;\n",
       "    }\n",
       "\n",
       "    .dataframe tbody tr th {\n",
       "        vertical-align: top;\n",
       "    }\n",
       "\n",
       "    .dataframe thead th {\n",
       "        text-align: right;\n",
       "    }\n",
       "</style>\n",
       "<table border=\"1\" class=\"dataframe\">\n",
       "  <thead>\n",
       "    <tr style=\"text-align: right;\">\n",
       "      <th></th>\n",
       "      <th>movieId</th>\n",
       "      <th>tmdb_id</th>\n",
       "      <th>title</th>\n",
       "      <th>year</th>\n",
       "      <th>production_countries</th>\n",
       "      <th>runtime</th>\n",
       "      <th>revenue</th>\n",
       "      <th>tmdb_popularity_score</th>\n",
       "      <th>tmdb_rating_avg</th>\n",
       "      <th>tmdb_votes_count</th>\n",
       "      <th>cast</th>\n",
       "      <th>director</th>\n",
       "      <th>genres</th>\n",
       "      <th>plot</th>\n",
       "      <th>embedding</th>\n",
       "    </tr>\n",
       "  </thead>\n",
       "  <tbody>\n",
       "    <tr>\n",
       "      <th>0</th>\n",
       "      <td>0</td>\n",
       "      <td>862.0</td>\n",
       "      <td>Toy Story</td>\n",
       "      <td>1995</td>\n",
       "      <td>[United States of America]</td>\n",
       "      <td>81.0</td>\n",
       "      <td>373554033</td>\n",
       "      <td>73.640445</td>\n",
       "      <td>7.7</td>\n",
       "      <td>5269</td>\n",
       "      <td>[Tom Hanks, Tim Allen, Don Rickles, Jim Varney...</td>\n",
       "      <td>[John Lasseter]</td>\n",
       "      <td>[Family, Comedy, Children, Animation, Adventur...</td>\n",
       "      <td>A group of living toys, who assume lifelessnes...</td>\n",
       "      <td>[-0.1895642, 0.39579535, 0.101590574, -0.13271...</td>\n",
       "    </tr>\n",
       "  </tbody>\n",
       "</table>\n",
       "</div>"
      ],
      "text/plain": [
       "   movieId  tmdb_id      title  year        production_countries  runtime   \n",
       "0        0    862.0  Toy Story  1995  [United States of America]     81.0  \\\n",
       "\n",
       "     revenue  tmdb_popularity_score  tmdb_rating_avg  tmdb_votes_count   \n",
       "0  373554033              73.640445              7.7              5269  \\\n",
       "\n",
       "                                                cast         director   \n",
       "0  [Tom Hanks, Tim Allen, Don Rickles, Jim Varney...  [John Lasseter]  \\\n",
       "\n",
       "                                              genres   \n",
       "0  [Family, Comedy, Children, Animation, Adventur...  \\\n",
       "\n",
       "                                                plot   \n",
       "0  A group of living toys, who assume lifelessnes...  \\\n",
       "\n",
       "                                           embedding  \n",
       "0  [-0.1895642, 0.39579535, 0.101590574, -0.13271...  "
      ]
     },
     "execution_count": 5,
     "metadata": {},
     "output_type": "execute_result"
    }
   ],
   "source": [
    "BigBadModel = SentenceTransformer(\"paraphrase-distilroberta-base-v1\")\n",
    "movies_data = get_movies()\n",
    "movies_data[\"embedding\"] = movies_data[\"plot\"].apply(BigBadModel.encode)\n",
    "movies_data.head(1)"
   ]
  },
  {
   "cell_type": "code",
   "execution_count": 7,
   "metadata": {
    "ExecuteTime": {
     "end_time": "2023-06-01T22:00:32.526577082Z",
     "start_time": "2023-06-01T21:59:27.035507668Z"
    }
   },
   "outputs": [
    {
     "data": {
      "text/html": [
       "<div>\n",
       "<style scoped>\n",
       "    .dataframe tbody tr th:only-of-type {\n",
       "        vertical-align: middle;\n",
       "    }\n",
       "\n",
       "    .dataframe tbody tr th {\n",
       "        vertical-align: top;\n",
       "    }\n",
       "\n",
       "    .dataframe thead th {\n",
       "        text-align: right;\n",
       "    }\n",
       "</style>\n",
       "<table border=\"1\" class=\"dataframe\">\n",
       "  <thead>\n",
       "    <tr style=\"text-align: right;\">\n",
       "      <th></th>\n",
       "      <th>userId</th>\n",
       "      <th>embedding</th>\n",
       "    </tr>\n",
       "  </thead>\n",
       "  <tbody>\n",
       "    <tr>\n",
       "      <th>0</th>\n",
       "      <td>0</td>\n",
       "      <td>[-0.30371347, 1.0123417, 0.6322011, 0.60798097...</td>\n",
       "    </tr>\n",
       "  </tbody>\n",
       "</table>\n",
       "</div>"
      ],
      "text/plain": [
       "   userId                                          embedding\n",
       "0       0  [-0.30371347, 1.0123417, 0.6322011, 0.60798097..."
      ]
     },
     "execution_count": 7,
     "metadata": {},
     "output_type": "execute_result"
    }
   ],
   "source": [
    "users_data = (\n",
    "    pd.read_parquet(\"../data/ratings_train.pq\")\n",
    "    .groupby(\"userId\")\n",
    "    .agg({col: list for col in [\"movieId\", \"rating\"]})\n",
    "    .reset_index()\n",
    ")\n",
    "users_data[\"movieId\"] = users_data[\"movieId\"].apply(np.array)\n",
    "users_data[\"rating\"] = users_data[\"rating\"].apply(np.array)\n",
    "users_data[\"embedding\"] = users_data.apply(\n",
    "    lambda row: np.mean(\n",
    "        movies_data[movies_data.movieId.isin(row[\"movieId\"])].embedding * row[\"rating\"],\n",
    "        axis=0,\n",
    "    ),\n",
    "    axis=1,\n",
    ")\n",
    "users_data = users_data[[\"userId\", \"embedding\"]]\n",
    "users_data.head(1)"
   ]
  },
  {
   "attachments": {},
   "cell_type": "markdown",
   "metadata": {},
   "source": [
    "## Average user"
   ]
  },
  {
   "cell_type": "code",
   "execution_count": 8,
   "metadata": {
    "ExecuteTime": {
     "end_time": "2023-06-01T22:00:32.527026270Z",
     "start_time": "2023-06-01T22:00:32.519404064Z"
    }
   },
   "outputs": [],
   "source": [
    "def recommend(row):\n",
    "    unwatched_films = movies_data[\n",
    "        movies_data.movieId.isin(row[\"unwatched\"])\n",
    "    ].reset_index(drop=True)\n",
    "    unwatched_films_embeddings = np.stack(unwatched_films.embedding.values)\n",
    "\n",
    "    avg_user_embedding = np.mean(\n",
    "        users_data[users_data.userId.isin(row[\"userId\"])].embedding, axis=0\n",
    "    ).reshape(1, -1)\n",
    "\n",
    "    dist_matrix = cdist(avg_user_embedding, unwatched_films_embeddings, metric='cosine').reshape(-1)\n",
    "    closest_films = dist_matrix.argsort()[:10]\n",
    "\n",
    "    top_movies = unwatched_films.loc[closest_films, \"movieId\"].values\n",
    "\n",
    "    return top_movies"
   ]
  },
  {
   "cell_type": "code",
   "execution_count": 9,
   "metadata": {
    "ExecuteTime": {
     "start_time": "2023-06-01T22:00:32.519618721Z"
    },
    "is_executing": true
   },
   "outputs": [
    {
     "name": "stdout",
     "output_type": "stream",
     "text": [
      "ClearML Monitor: Could not detect iteration reporting, falling back to iterations as seconds-from-start\n"
     ]
    },
    {
     "data": {
      "text/html": [
       "<div>\n",
       "<style scoped>\n",
       "    .dataframe tbody tr th:only-of-type {\n",
       "        vertical-align: middle;\n",
       "    }\n",
       "\n",
       "    .dataframe tbody tr th {\n",
       "        vertical-align: top;\n",
       "    }\n",
       "\n",
       "    .dataframe thead th {\n",
       "        text-align: right;\n",
       "    }\n",
       "</style>\n",
       "<table border=\"1\" class=\"dataframe\">\n",
       "  <thead>\n",
       "    <tr style=\"text-align: right;\">\n",
       "      <th></th>\n",
       "      <th>userId</th>\n",
       "      <th>group1</th>\n",
       "      <th>group2</th>\n",
       "      <th>group3</th>\n",
       "      <th>group4</th>\n",
       "      <th>group5</th>\n",
       "      <th>group6</th>\n",
       "      <th>group7</th>\n",
       "      <th>movieId</th>\n",
       "      <th>rating</th>\n",
       "      <th>unwatched</th>\n",
       "      <th>group1_rec</th>\n",
       "      <th>group2_rec</th>\n",
       "      <th>group3_rec</th>\n",
       "      <th>group4_rec</th>\n",
       "      <th>group5_rec</th>\n",
       "      <th>group6_rec</th>\n",
       "      <th>group7_rec</th>\n",
       "    </tr>\n",
       "  </thead>\n",
       "  <tbody>\n",
       "    <tr>\n",
       "      <th>0</th>\n",
       "      <td>1</td>\n",
       "      <td>1</td>\n",
       "      <td>14465</td>\n",
       "      <td>39625</td>\n",
       "      <td>6774</td>\n",
       "      <td>4424</td>\n",
       "      <td>23830</td>\n",
       "      <td>7737</td>\n",
       "      <td>[613, 176, 734, 114, 270, 485, 352, 201, 571, ...</td>\n",
       "      <td>[5.0, 5.0, 5.0, 5.0, 4.5, 4.5, 4.5, 4.5, 4.5, ...</td>\n",
       "      <td>[22, 80, 14, 26, 310, 376, 99, 96, 75, 70, 74,...</td>\n",
       "      <td>[693, 57, 496, 204, 74, 376, 715, 461, 597, 361]</td>\n",
       "      <td>[693, 57, 204, 361, 376, 417, 461, 496, 465, 315]</td>\n",
       "      <td>[57, 315, 461, 408, 95, 417, 796, 571, 251, 715]</td>\n",
       "      <td>[693, 57, 74, 315, 95, 361, 417, 130, 496, 408]</td>\n",
       "      <td>[315, 461, 204, 417, 57, 693, 130, 287, 337, 248]</td>\n",
       "      <td>[204, 57, 74, 693, 417, 95, 130, 283, 361, 465]</td>\n",
       "      <td>[57, 417, 461, 361, 337, 95, 283, 596, 512, 326]</td>\n",
       "    </tr>\n",
       "  </tbody>\n",
       "</table>\n",
       "</div>"
      ],
      "text/plain": [
       "   userId  group1  group2  group3  group4  group5  group6  group7   \n",
       "0       1       1   14465   39625    6774    4424   23830    7737  \\\n",
       "\n",
       "                                             movieId   \n",
       "0  [613, 176, 734, 114, 270, 485, 352, 201, 571, ...  \\\n",
       "\n",
       "                                              rating   \n",
       "0  [5.0, 5.0, 5.0, 5.0, 4.5, 4.5, 4.5, 4.5, 4.5, ...  \\\n",
       "\n",
       "                                           unwatched   \n",
       "0  [22, 80, 14, 26, 310, 376, 99, 96, 75, 70, 74,...  \\\n",
       "\n",
       "                                         group1_rec   \n",
       "0  [693, 57, 496, 204, 74, 376, 715, 461, 597, 361]  \\\n",
       "\n",
       "                                          group2_rec   \n",
       "0  [693, 57, 204, 361, 376, 417, 461, 496, 465, 315]  \\\n",
       "\n",
       "                                         group3_rec   \n",
       "0  [57, 315, 461, 408, 95, 417, 796, 571, 251, 715]  \\\n",
       "\n",
       "                                        group4_rec   \n",
       "0  [693, 57, 74, 315, 95, 361, 417, 130, 496, 408]  \\\n",
       "\n",
       "                                          group5_rec   \n",
       "0  [315, 461, 204, 417, 57, 693, 130, 287, 337, 248]  \\\n",
       "\n",
       "                                        group6_rec   \n",
       "0  [204, 57, 74, 693, 417, 95, 130, 283, 361, 465]  \\\n",
       "\n",
       "                                         group7_rec  \n",
       "0  [57, 417, 461, 361, 337, 95, 283, 596, 512, 326]  "
      ]
     },
     "execution_count": 9,
     "metadata": {},
     "output_type": "execute_result"
    }
   ],
   "source": [
    "recommends = generate_recommendations(recommend, recommender_data, GROUPS_LIST)\n",
    "recommends.head(1)"
   ]
  },
  {
   "cell_type": "code",
   "execution_count": 10,
   "metadata": {
    "is_executing": true
   },
   "outputs": [
    {
     "data": {
      "text/html": [
       "<div>\n",
       "<style scoped>\n",
       "    .dataframe tbody tr th:only-of-type {\n",
       "        vertical-align: middle;\n",
       "    }\n",
       "\n",
       "    .dataframe tbody tr th {\n",
       "        vertical-align: top;\n",
       "    }\n",
       "\n",
       "    .dataframe thead th {\n",
       "        text-align: right;\n",
       "    }\n",
       "</style>\n",
       "<table border=\"1\" class=\"dataframe\">\n",
       "  <thead>\n",
       "    <tr style=\"text-align: right;\">\n",
       "      <th></th>\n",
       "      <th>MAP</th>\n",
       "      <th>NDCG</th>\n",
       "    </tr>\n",
       "  </thead>\n",
       "  <tbody>\n",
       "    <tr>\n",
       "      <th>group1</th>\n",
       "      <td>0.018087</td>\n",
       "      <td>0.152896</td>\n",
       "    </tr>\n",
       "    <tr>\n",
       "      <th>group2</th>\n",
       "      <td>0.014279</td>\n",
       "      <td>0.127830</td>\n",
       "    </tr>\n",
       "    <tr>\n",
       "      <th>group3</th>\n",
       "      <td>0.012682</td>\n",
       "      <td>0.115725</td>\n",
       "    </tr>\n",
       "    <tr>\n",
       "      <th>group4</th>\n",
       "      <td>0.011553</td>\n",
       "      <td>0.108357</td>\n",
       "    </tr>\n",
       "    <tr>\n",
       "      <th>group5</th>\n",
       "      <td>0.011819</td>\n",
       "      <td>0.109612</td>\n",
       "    </tr>\n",
       "    <tr>\n",
       "      <th>group6</th>\n",
       "      <td>0.011309</td>\n",
       "      <td>0.105400</td>\n",
       "    </tr>\n",
       "    <tr>\n",
       "      <th>group7</th>\n",
       "      <td>0.010644</td>\n",
       "      <td>0.099867</td>\n",
       "    </tr>\n",
       "  </tbody>\n",
       "</table>\n",
       "</div>"
      ],
      "text/plain": [
       "             MAP      NDCG\n",
       "group1  0.018087  0.152896\n",
       "group2  0.014279  0.127830\n",
       "group3  0.012682  0.115725\n",
       "group4  0.011553  0.108357\n",
       "group5  0.011819  0.109612\n",
       "group6  0.011309  0.105400\n",
       "group7  0.010644  0.099867"
      ]
     },
     "execution_count": 10,
     "metadata": {},
     "output_type": "execute_result"
    }
   ],
   "source": [
    "average_user_results = evaluate_recommendations(recommends, GROUPS_LIST)\n",
    "average_user_results"
   ]
  },
  {
   "attachments": {},
   "cell_type": "markdown",
   "metadata": {},
   "source": [
    "## Group Sum"
   ]
  },
  {
   "cell_type": "code",
   "execution_count": 11,
   "metadata": {
    "is_executing": true
   },
   "outputs": [],
   "source": [
    "def recommend(row):\n",
    "    unwatched_films = movies_data[\n",
    "        movies_data.movieId.isin(row[\"unwatched\"])\n",
    "    ].reset_index(drop=True)\n",
    "    unwatched_films_embeddings = np.stack(unwatched_films.embedding.values)\n",
    "\n",
    "    group_users = users_data[\n",
    "        users_data.userId.isin(row[\"userId\"])\n",
    "    ]\n",
    "    group_users_embeddings = np.stack(group_users.embedding.values)\n",
    "\n",
    "    dist_matrix = cdist(group_users_embeddings, unwatched_films_embeddings, metric='cosine')\n",
    "    closest_films = np.sum(dist_matrix, axis=0).argsort()[:10]\n",
    "    \n",
    "    top_movies = unwatched_films.loc[closest_films, \"movieId\"].values\n",
    "\n",
    "    return top_movies"
   ]
  },
  {
   "cell_type": "code",
   "execution_count": 12,
   "metadata": {
    "is_executing": true
   },
   "outputs": [
    {
     "data": {
      "text/html": [
       "<div>\n",
       "<style scoped>\n",
       "    .dataframe tbody tr th:only-of-type {\n",
       "        vertical-align: middle;\n",
       "    }\n",
       "\n",
       "    .dataframe tbody tr th {\n",
       "        vertical-align: top;\n",
       "    }\n",
       "\n",
       "    .dataframe thead th {\n",
       "        text-align: right;\n",
       "    }\n",
       "</style>\n",
       "<table border=\"1\" class=\"dataframe\">\n",
       "  <thead>\n",
       "    <tr style=\"text-align: right;\">\n",
       "      <th></th>\n",
       "      <th>userId</th>\n",
       "      <th>group1</th>\n",
       "      <th>group2</th>\n",
       "      <th>group3</th>\n",
       "      <th>group4</th>\n",
       "      <th>group5</th>\n",
       "      <th>group6</th>\n",
       "      <th>group7</th>\n",
       "      <th>movieId</th>\n",
       "      <th>rating</th>\n",
       "      <th>unwatched</th>\n",
       "      <th>group1_rec</th>\n",
       "      <th>group2_rec</th>\n",
       "      <th>group3_rec</th>\n",
       "      <th>group4_rec</th>\n",
       "      <th>group5_rec</th>\n",
       "      <th>group6_rec</th>\n",
       "      <th>group7_rec</th>\n",
       "    </tr>\n",
       "  </thead>\n",
       "  <tbody>\n",
       "    <tr>\n",
       "      <th>0</th>\n",
       "      <td>1</td>\n",
       "      <td>1</td>\n",
       "      <td>14465</td>\n",
       "      <td>39625</td>\n",
       "      <td>6774</td>\n",
       "      <td>4424</td>\n",
       "      <td>23830</td>\n",
       "      <td>7737</td>\n",
       "      <td>[613, 176, 734, 114, 270, 485, 352, 201, 571, ...</td>\n",
       "      <td>[5.0, 5.0, 5.0, 5.0, 4.5, 4.5, 4.5, 4.5, 4.5, ...</td>\n",
       "      <td>[22, 80, 14, 26, 310, 376, 99, 96, 75, 70, 74,...</td>\n",
       "      <td>[693, 57, 496, 204, 74, 376, 715, 461, 597, 361]</td>\n",
       "      <td>[693, 57, 204, 361, 376, 417, 461, 465, 496, 315]</td>\n",
       "      <td>[57, 315, 461, 408, 95, 417, 796, 571, 715, 251]</td>\n",
       "      <td>[693, 57, 74, 315, 95, 417, 361, 130, 496, 408]</td>\n",
       "      <td>[461, 315, 204, 417, 57, 693, 130, 287, 337, 248]</td>\n",
       "      <td>[204, 57, 693, 74, 417, 95, 130, 465, 361, 283]</td>\n",
       "      <td>[57, 417, 461, 361, 337, 95, 283, 596, 512, 326]</td>\n",
       "    </tr>\n",
       "  </tbody>\n",
       "</table>\n",
       "</div>"
      ],
      "text/plain": [
       "   userId  group1  group2  group3  group4  group5  group6  group7   \n",
       "0       1       1   14465   39625    6774    4424   23830    7737  \\\n",
       "\n",
       "                                             movieId   \n",
       "0  [613, 176, 734, 114, 270, 485, 352, 201, 571, ...  \\\n",
       "\n",
       "                                              rating   \n",
       "0  [5.0, 5.0, 5.0, 5.0, 4.5, 4.5, 4.5, 4.5, 4.5, ...  \\\n",
       "\n",
       "                                           unwatched   \n",
       "0  [22, 80, 14, 26, 310, 376, 99, 96, 75, 70, 74,...  \\\n",
       "\n",
       "                                         group1_rec   \n",
       "0  [693, 57, 496, 204, 74, 376, 715, 461, 597, 361]  \\\n",
       "\n",
       "                                          group2_rec   \n",
       "0  [693, 57, 204, 361, 376, 417, 461, 465, 496, 315]  \\\n",
       "\n",
       "                                         group3_rec   \n",
       "0  [57, 315, 461, 408, 95, 417, 796, 571, 715, 251]  \\\n",
       "\n",
       "                                        group4_rec   \n",
       "0  [693, 57, 74, 315, 95, 417, 361, 130, 496, 408]  \\\n",
       "\n",
       "                                          group5_rec   \n",
       "0  [461, 315, 204, 417, 57, 693, 130, 287, 337, 248]  \\\n",
       "\n",
       "                                        group6_rec   \n",
       "0  [204, 57, 693, 74, 417, 95, 130, 465, 361, 283]  \\\n",
       "\n",
       "                                         group7_rec  \n",
       "0  [57, 417, 461, 361, 337, 95, 283, 596, 512, 326]  "
      ]
     },
     "execution_count": 12,
     "metadata": {},
     "output_type": "execute_result"
    }
   ],
   "source": [
    "recommends = generate_recommendations(recommend, recommender_data, GROUPS_LIST)\n",
    "recommends.head(1)"
   ]
  },
  {
   "cell_type": "code",
   "execution_count": 13,
   "metadata": {
    "is_executing": true
   },
   "outputs": [
    {
     "data": {
      "text/html": [
       "<div>\n",
       "<style scoped>\n",
       "    .dataframe tbody tr th:only-of-type {\n",
       "        vertical-align: middle;\n",
       "    }\n",
       "\n",
       "    .dataframe tbody tr th {\n",
       "        vertical-align: top;\n",
       "    }\n",
       "\n",
       "    .dataframe thead th {\n",
       "        text-align: right;\n",
       "    }\n",
       "</style>\n",
       "<table border=\"1\" class=\"dataframe\">\n",
       "  <thead>\n",
       "    <tr style=\"text-align: right;\">\n",
       "      <th></th>\n",
       "      <th>MAP</th>\n",
       "      <th>NDCG</th>\n",
       "    </tr>\n",
       "  </thead>\n",
       "  <tbody>\n",
       "    <tr>\n",
       "      <th>group1</th>\n",
       "      <td>0.018087</td>\n",
       "      <td>0.152896</td>\n",
       "    </tr>\n",
       "    <tr>\n",
       "      <th>group2</th>\n",
       "      <td>0.014245</td>\n",
       "      <td>0.127674</td>\n",
       "    </tr>\n",
       "    <tr>\n",
       "      <th>group3</th>\n",
       "      <td>0.012681</td>\n",
       "      <td>0.115756</td>\n",
       "    </tr>\n",
       "    <tr>\n",
       "      <th>group4</th>\n",
       "      <td>0.011552</td>\n",
       "      <td>0.108302</td>\n",
       "    </tr>\n",
       "    <tr>\n",
       "      <th>group5</th>\n",
       "      <td>0.011827</td>\n",
       "      <td>0.109697</td>\n",
       "    </tr>\n",
       "    <tr>\n",
       "      <th>group6</th>\n",
       "      <td>0.011290</td>\n",
       "      <td>0.105105</td>\n",
       "    </tr>\n",
       "    <tr>\n",
       "      <th>group7</th>\n",
       "      <td>0.010617</td>\n",
       "      <td>0.099679</td>\n",
       "    </tr>\n",
       "  </tbody>\n",
       "</table>\n",
       "</div>"
      ],
      "text/plain": [
       "             MAP      NDCG\n",
       "group1  0.018087  0.152896\n",
       "group2  0.014245  0.127674\n",
       "group3  0.012681  0.115756\n",
       "group4  0.011552  0.108302\n",
       "group5  0.011827  0.109697\n",
       "group6  0.011290  0.105105\n",
       "group7  0.010617  0.099679"
      ]
     },
     "execution_count": 13,
     "metadata": {},
     "output_type": "execute_result"
    }
   ],
   "source": [
    "group_sum_results = evaluate_recommendations(recommends, GROUPS_LIST)\n",
    "group_sum_results"
   ]
  },
  {
   "cell_type": "code",
   "execution_count": 14,
   "metadata": {
    "is_executing": true
   },
   "outputs": [
    {
     "data": {
      "text/plain": [
       "True"
      ]
     },
     "execution_count": 14,
     "metadata": {},
     "output_type": "execute_result"
    }
   ],
   "source": [
    "task.upload_artifact(\"avg_user_metrics\", average_user_results)\n",
    "task.upload_artifact(\"group_sum_metrics\", group_sum_results)"
   ]
  },
  {
   "cell_type": "code",
   "execution_count": 15,
   "metadata": {
    "is_executing": true
   },
   "outputs": [],
   "source": [
    "task.close()"
   ]
  }
 ],
 "metadata": {
  "kernelspec": {
   "display_name": ".venv",
   "language": "python",
   "name": "python3"
  },
  "language_info": {
   "codemirror_mode": {
    "name": "ipython",
    "version": 3
   },
   "file_extension": ".py",
   "mimetype": "text/x-python",
   "name": "python",
   "nbconvert_exporter": "python",
   "pygments_lexer": "ipython3",
   "version": "3.11.0"
  },
  "orig_nbformat": 4
 },
 "nbformat": 4,
 "nbformat_minor": 2
}
