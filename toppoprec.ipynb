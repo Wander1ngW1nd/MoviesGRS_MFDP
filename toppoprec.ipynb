{
 "cells": [
  {
   "cell_type": "code",
   "execution_count": 1,
   "metadata": {},
   "outputs": [
    {
     "data": {
      "text/plain": [
       "True"
      ]
     },
     "execution_count": 1,
     "metadata": {},
     "output_type": "execute_result"
    }
   ],
   "source": [
    "import pandas as pd\n",
    "import numpy as np\n",
    "np.random.seed(42)\n",
    "\n",
    "from evaluation import generate_recommendations, evaluate_recommendations\n",
    "from recommender_data_preprocessor import get_recommender_data\n",
    "\n",
    "import clearml\n",
    "\n",
    "from dotenv import load_dotenv\n",
    "load_dotenv()"
   ]
  },
  {
   "cell_type": "code",
   "execution_count": 2,
   "metadata": {},
   "outputs": [
    {
     "name": "stdout",
     "output_type": "stream",
     "text": [
      "ClearML Task: created new task id=4c80f417962142c2a89705999579622f\n",
      "2023-06-01 22:15:21,405 - clearml.Task - INFO - Storing jupyter notebook directly as code\n",
      "ClearML results page: https://app.clear.ml/projects/f3cb8157bfe7443abdc531a44bb15332/experiments/4c80f417962142c2a89705999579622f/output/log\n"
     ]
    }
   ],
   "source": [
    "task = clearml.Task.init(\n",
    "    project_name = 'MoviesGRS_MFDP', \n",
    "    task_name = 'TopPopularMoviesRecommender', \n",
    "    tags = ['TopPopularMoviesRecommender', 'Evaluation', 'TimeSeriesSplit']\n",
    ")"
   ]
  },
  {
   "cell_type": "code",
   "execution_count": 3,
   "metadata": {},
   "outputs": [],
   "source": [
    "GROUPS_LIST = [f'group{i}' for i in range(1, 8)]"
   ]
  },
  {
   "cell_type": "code",
   "execution_count": 4,
   "metadata": {},
   "outputs": [],
   "source": [
    "recommender_data = get_recommender_data(GROUPS_LIST)"
   ]
  },
  {
   "cell_type": "code",
   "execution_count": 5,
   "metadata": {},
   "outputs": [],
   "source": [
    "top_popular_movies = (\n",
    "    pd.read_parquet('data/ratings_train.pq')\n",
    "    .groupby(by='movieId')\n",
    "    .agg({'userId': 'nunique'})\n",
    "    .sort_values(by='userId', ascending=False)\n",
    "    .rename(columns={'userId': 'userCount'})\n",
    "    .reset_index()\n",
    ")"
   ]
  },
  {
   "cell_type": "code",
   "execution_count": 6,
   "metadata": {},
   "outputs": [],
   "source": [
    "def recommend(row):\n",
    "    top_movies = []\n",
    "    for movie in top_popular_movies.movieId:\n",
    "        if movie in row[\"unwatched\"]:\n",
    "            top_movies.append(movie)\n",
    "            if len(top_movies) == 10:\n",
    "                return np.array(top_movies)"
   ]
  },
  {
   "cell_type": "code",
   "execution_count": 7,
   "metadata": {},
   "outputs": [
    {
     "data": {
      "text/html": [
       "<div>\n",
       "<style scoped>\n",
       "    .dataframe tbody tr th:only-of-type {\n",
       "        vertical-align: middle;\n",
       "    }\n",
       "\n",
       "    .dataframe tbody tr th {\n",
       "        vertical-align: top;\n",
       "    }\n",
       "\n",
       "    .dataframe thead th {\n",
       "        text-align: right;\n",
       "    }\n",
       "</style>\n",
       "<table border=\"1\" class=\"dataframe\">\n",
       "  <thead>\n",
       "    <tr style=\"text-align: right;\">\n",
       "      <th></th>\n",
       "      <th>userId</th>\n",
       "      <th>group1</th>\n",
       "      <th>group2</th>\n",
       "      <th>group3</th>\n",
       "      <th>group4</th>\n",
       "      <th>group5</th>\n",
       "      <th>group6</th>\n",
       "      <th>group7</th>\n",
       "      <th>movieId</th>\n",
       "      <th>rating</th>\n",
       "      <th>unwatched</th>\n",
       "      <th>group1_rec</th>\n",
       "      <th>group2_rec</th>\n",
       "      <th>group3_rec</th>\n",
       "      <th>group4_rec</th>\n",
       "      <th>group5_rec</th>\n",
       "      <th>group6_rec</th>\n",
       "      <th>group7_rec</th>\n",
       "    </tr>\n",
       "  </thead>\n",
       "  <tbody>\n",
       "    <tr>\n",
       "      <th>0</th>\n",
       "      <td>1</td>\n",
       "      <td>1</td>\n",
       "      <td>14465</td>\n",
       "      <td>39625</td>\n",
       "      <td>6774</td>\n",
       "      <td>4424</td>\n",
       "      <td>23830</td>\n",
       "      <td>7737</td>\n",
       "      <td>[613, 176, 734, 114, 270, 485, 352, 201, 571, ...</td>\n",
       "      <td>[5.0, 5.0, 5.0, 5.0, 4.5, 4.5, 4.5, 4.5, 4.5, ...</td>\n",
       "      <td>[22, 80, 14, 26, 310, 376, 99, 96, 75, 70, 74,...</td>\n",
       "      <td>[22, 80, 14, 26, 310, 376, 99, 96, 75, 70]</td>\n",
       "      <td>[80, 310, 376, 99, 96, 75, 70, 74, 98, 243]</td>\n",
       "      <td>[176, 407, 550, 251, 41, 95, 111, 406, 54, 69]</td>\n",
       "      <td>[26, 99, 96, 75, 74, 98, 243, 63, 267, 156]</td>\n",
       "      <td>[80, 26, 98, 243, 204, 166, 197, 33, 71, 86]</td>\n",
       "      <td>[22, 80, 310, 376, 75, 70, 74, 98, 243, 265]</td>\n",
       "      <td>[1, 50, 95, 94, 54, 61, 69, 361, 79, 77]</td>\n",
       "    </tr>\n",
       "  </tbody>\n",
       "</table>\n",
       "</div>"
      ],
      "text/plain": [
       "   userId  group1  group2  group3  group4  group5  group6  group7   \n",
       "0       1       1   14465   39625    6774    4424   23830    7737  \\\n",
       "\n",
       "                                             movieId   \n",
       "0  [613, 176, 734, 114, 270, 485, 352, 201, 571, ...  \\\n",
       "\n",
       "                                              rating   \n",
       "0  [5.0, 5.0, 5.0, 5.0, 4.5, 4.5, 4.5, 4.5, 4.5, ...  \\\n",
       "\n",
       "                                           unwatched   \n",
       "0  [22, 80, 14, 26, 310, 376, 99, 96, 75, 70, 74,...  \\\n",
       "\n",
       "                                   group1_rec   \n",
       "0  [22, 80, 14, 26, 310, 376, 99, 96, 75, 70]  \\\n",
       "\n",
       "                                    group2_rec   \n",
       "0  [80, 310, 376, 99, 96, 75, 70, 74, 98, 243]  \\\n",
       "\n",
       "                                       group3_rec   \n",
       "0  [176, 407, 550, 251, 41, 95, 111, 406, 54, 69]  \\\n",
       "\n",
       "                                    group4_rec   \n",
       "0  [26, 99, 96, 75, 74, 98, 243, 63, 267, 156]  \\\n",
       "\n",
       "                                     group5_rec   \n",
       "0  [80, 26, 98, 243, 204, 166, 197, 33, 71, 86]  \\\n",
       "\n",
       "                                     group6_rec   \n",
       "0  [22, 80, 310, 376, 75, 70, 74, 98, 243, 265]  \\\n",
       "\n",
       "                                 group7_rec  \n",
       "0  [1, 50, 95, 94, 54, 61, 69, 361, 79, 77]  "
      ]
     },
     "execution_count": 7,
     "metadata": {},
     "output_type": "execute_result"
    }
   ],
   "source": [
    "recommends = generate_recommendations(recommend, recommender_data, GROUPS_LIST)\n",
    "recommends.head(1)"
   ]
  },
  {
   "cell_type": "code",
   "execution_count": 8,
   "metadata": {},
   "outputs": [
    {
     "name": "stdout",
     "output_type": "stream",
     "text": [
      "ClearML Monitor: Could not detect iteration reporting, falling back to iterations as seconds-from-start\n"
     ]
    },
    {
     "data": {
      "text/html": [
       "<div>\n",
       "<style scoped>\n",
       "    .dataframe tbody tr th:only-of-type {\n",
       "        vertical-align: middle;\n",
       "    }\n",
       "\n",
       "    .dataframe tbody tr th {\n",
       "        vertical-align: top;\n",
       "    }\n",
       "\n",
       "    .dataframe thead th {\n",
       "        text-align: right;\n",
       "    }\n",
       "</style>\n",
       "<table border=\"1\" class=\"dataframe\">\n",
       "  <thead>\n",
       "    <tr style=\"text-align: right;\">\n",
       "      <th></th>\n",
       "      <th>MAP</th>\n",
       "      <th>NDCG</th>\n",
       "    </tr>\n",
       "  </thead>\n",
       "  <tbody>\n",
       "    <tr>\n",
       "      <th>group1</th>\n",
       "      <td>0.056851</td>\n",
       "      <td>0.277816</td>\n",
       "    </tr>\n",
       "    <tr>\n",
       "      <th>group2</th>\n",
       "      <td>0.049428</td>\n",
       "      <td>0.258088</td>\n",
       "    </tr>\n",
       "    <tr>\n",
       "      <th>group3</th>\n",
       "      <td>0.043397</td>\n",
       "      <td>0.240154</td>\n",
       "    </tr>\n",
       "    <tr>\n",
       "      <th>group4</th>\n",
       "      <td>0.038745</td>\n",
       "      <td>0.226101</td>\n",
       "    </tr>\n",
       "    <tr>\n",
       "      <th>group5</th>\n",
       "      <td>0.039790</td>\n",
       "      <td>0.228874</td>\n",
       "    </tr>\n",
       "    <tr>\n",
       "      <th>group6</th>\n",
       "      <td>0.036306</td>\n",
       "      <td>0.217078</td>\n",
       "    </tr>\n",
       "    <tr>\n",
       "      <th>group7</th>\n",
       "      <td>0.033880</td>\n",
       "      <td>0.208103</td>\n",
       "    </tr>\n",
       "  </tbody>\n",
       "</table>\n",
       "</div>"
      ],
      "text/plain": [
       "             MAP      NDCG\n",
       "group1  0.056851  0.277816\n",
       "group2  0.049428  0.258088\n",
       "group3  0.043397  0.240154\n",
       "group4  0.038745  0.226101\n",
       "group5  0.039790  0.228874\n",
       "group6  0.036306  0.217078\n",
       "group7  0.033880  0.208103"
      ]
     },
     "execution_count": 8,
     "metadata": {},
     "output_type": "execute_result"
    }
   ],
   "source": [
    "results = evaluate_recommendations(recommends, GROUPS_LIST)\n",
    "results"
   ]
  },
  {
   "cell_type": "code",
   "execution_count": 9,
   "metadata": {},
   "outputs": [
    {
     "data": {
      "text/plain": [
       "True"
      ]
     },
     "execution_count": 9,
     "metadata": {},
     "output_type": "execute_result"
    }
   ],
   "source": [
    "task.upload_artifact('metrics', results)"
   ]
  },
  {
   "cell_type": "code",
   "execution_count": 10,
   "metadata": {},
   "outputs": [],
   "source": [
    "task.close()"
   ]
  }
 ],
 "metadata": {
  "kernelspec": {
   "display_name": ".venv",
   "language": "python",
   "name": "python3"
  },
  "language_info": {
   "codemirror_mode": {
    "name": "ipython",
    "version": 3
   },
   "file_extension": ".py",
   "mimetype": "text/x-python",
   "name": "python",
   "nbconvert_exporter": "python",
   "pygments_lexer": "ipython3",
   "version": "3.11.0"
  },
  "orig_nbformat": 4
 },
 "nbformat": 4,
 "nbformat_minor": 2
}
