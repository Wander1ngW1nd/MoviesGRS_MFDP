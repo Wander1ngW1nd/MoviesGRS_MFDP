{
 "cells": [
  {
   "cell_type": "code",
   "execution_count": 1,
   "metadata": {},
   "outputs": [
    {
     "data": {
      "text/plain": [
       "True"
      ]
     },
     "execution_count": 1,
     "metadata": {},
     "output_type": "execute_result"
    }
   ],
   "source": [
    "import pandas as pd\n",
    "import numpy as np\n",
    "np.random.seed(42)\n",
    "\n",
    "from evaluation import generate_recommendations, evaluate_recommendations\n",
    "from recommender_data_preprocessor import get_recommender_data\n",
    "\n",
    "import clearml\n",
    "\n",
    "from dotenv import load_dotenv\n",
    "load_dotenv()"
   ]
  },
  {
   "cell_type": "code",
   "execution_count": 2,
   "metadata": {},
   "outputs": [
    {
     "name": "stdout",
     "output_type": "stream",
     "text": [
      "ClearML Task: created new task id=800b622c74284843b15287a8509ec0ac\n",
      "2023-06-01 22:10:55,485 - clearml.Task - INFO - Storing jupyter notebook directly as code\n",
      "ClearML results page: https://app.clear.ml/projects/f3cb8157bfe7443abdc531a44bb15332/experiments/800b622c74284843b15287a8509ec0ac/output/log\n"
     ]
    }
   ],
   "source": [
    "task = clearml.Task.init(\n",
    "    project_name = 'MoviesGRS_MFDP', \n",
    "    task_name = 'RandomRecommender', \n",
    "    tags = ['RandomRecommender']\n",
    ")"
   ]
  },
  {
   "cell_type": "code",
   "execution_count": 3,
   "metadata": {},
   "outputs": [],
   "source": [
    "GROUPS_LIST = [f'group{i}' for i in range(1, 8)]"
   ]
  },
  {
   "cell_type": "code",
   "execution_count": 4,
   "metadata": {},
   "outputs": [],
   "source": [
    "recommender_data = get_recommender_data(GROUPS_LIST)"
   ]
  },
  {
   "cell_type": "code",
   "execution_count": 5,
   "metadata": {},
   "outputs": [],
   "source": [
    "def recommend(row):\n",
    "    return np.random.choice(row['unwatched'], size=10, replace=False)"
   ]
  },
  {
   "cell_type": "code",
   "execution_count": 6,
   "metadata": {},
   "outputs": [
    {
     "data": {
      "text/html": [
       "<div>\n",
       "<style scoped>\n",
       "    .dataframe tbody tr th:only-of-type {\n",
       "        vertical-align: middle;\n",
       "    }\n",
       "\n",
       "    .dataframe tbody tr th {\n",
       "        vertical-align: top;\n",
       "    }\n",
       "\n",
       "    .dataframe thead th {\n",
       "        text-align: right;\n",
       "    }\n",
       "</style>\n",
       "<table border=\"1\" class=\"dataframe\">\n",
       "  <thead>\n",
       "    <tr style=\"text-align: right;\">\n",
       "      <th></th>\n",
       "      <th>userId</th>\n",
       "      <th>group1</th>\n",
       "      <th>group2</th>\n",
       "      <th>group3</th>\n",
       "      <th>group4</th>\n",
       "      <th>group5</th>\n",
       "      <th>group6</th>\n",
       "      <th>group7</th>\n",
       "      <th>movieId</th>\n",
       "      <th>rating</th>\n",
       "      <th>unwatched</th>\n",
       "      <th>group1_rec</th>\n",
       "      <th>group2_rec</th>\n",
       "      <th>group3_rec</th>\n",
       "      <th>group4_rec</th>\n",
       "      <th>group5_rec</th>\n",
       "      <th>group6_rec</th>\n",
       "      <th>group7_rec</th>\n",
       "    </tr>\n",
       "  </thead>\n",
       "  <tbody>\n",
       "    <tr>\n",
       "      <th>0</th>\n",
       "      <td>1</td>\n",
       "      <td>1</td>\n",
       "      <td>14465</td>\n",
       "      <td>39625</td>\n",
       "      <td>6774</td>\n",
       "      <td>4424</td>\n",
       "      <td>23830</td>\n",
       "      <td>7737</td>\n",
       "      <td>[613, 176, 734, 114, 270, 485, 352, 201, 571, ...</td>\n",
       "      <td>[5.0, 5.0, 5.0, 5.0, 4.5, 4.5, 4.5, 4.5, 4.5, ...</td>\n",
       "      <td>[22, 80, 14, 26, 310, 376, 99, 96, 75, 70, 74,...</td>\n",
       "      <td>[486, 316, 337, 510, 618, 139, 387, 20, 347, 390]</td>\n",
       "      <td>[431, 478, 364, 83, 385, 336, 376, 32, 34, 50]</td>\n",
       "      <td>[328, 324, 431, 308, 77, 414, 399, 105, 12, 646]</td>\n",
       "      <td>[50, 403, 382, 360, 218, 253, 260, 719, 398, 440]</td>\n",
       "      <td>[286, 45, 438, 352, 122, 200, 490, 297, 141, 398]</td>\n",
       "      <td>[527, 225, 88, 60, 125, 83, 393, 542, 647, 239]</td>\n",
       "      <td>[326, 127, 143, 423, 137, 618, 37, 596, 446, 108]</td>\n",
       "    </tr>\n",
       "  </tbody>\n",
       "</table>\n",
       "</div>"
      ],
      "text/plain": [
       "   userId  group1  group2  group3  group4  group5  group6  group7   \n",
       "0       1       1   14465   39625    6774    4424   23830    7737  \\\n",
       "\n",
       "                                             movieId   \n",
       "0  [613, 176, 734, 114, 270, 485, 352, 201, 571, ...  \\\n",
       "\n",
       "                                              rating   \n",
       "0  [5.0, 5.0, 5.0, 5.0, 4.5, 4.5, 4.5, 4.5, 4.5, ...  \\\n",
       "\n",
       "                                           unwatched   \n",
       "0  [22, 80, 14, 26, 310, 376, 99, 96, 75, 70, 74,...  \\\n",
       "\n",
       "                                          group1_rec   \n",
       "0  [486, 316, 337, 510, 618, 139, 387, 20, 347, 390]  \\\n",
       "\n",
       "                                       group2_rec   \n",
       "0  [431, 478, 364, 83, 385, 336, 376, 32, 34, 50]  \\\n",
       "\n",
       "                                         group3_rec   \n",
       "0  [328, 324, 431, 308, 77, 414, 399, 105, 12, 646]  \\\n",
       "\n",
       "                                          group4_rec   \n",
       "0  [50, 403, 382, 360, 218, 253, 260, 719, 398, 440]  \\\n",
       "\n",
       "                                          group5_rec   \n",
       "0  [286, 45, 438, 352, 122, 200, 490, 297, 141, 398]  \\\n",
       "\n",
       "                                        group6_rec   \n",
       "0  [527, 225, 88, 60, 125, 83, 393, 542, 647, 239]  \\\n",
       "\n",
       "                                          group7_rec  \n",
       "0  [326, 127, 143, 423, 137, 618, 37, 596, 446, 108]  "
      ]
     },
     "execution_count": 6,
     "metadata": {},
     "output_type": "execute_result"
    }
   ],
   "source": [
    "recommends = generate_recommendations(recommend, recommender_data, GROUPS_LIST)\n",
    "recommends.head(1)"
   ]
  },
  {
   "cell_type": "code",
   "execution_count": 7,
   "metadata": {},
   "outputs": [
    {
     "name": "stdout",
     "output_type": "stream",
     "text": [
      "ClearML Monitor: Could not detect iteration reporting, falling back to iterations as seconds-from-start\n"
     ]
    },
    {
     "data": {
      "text/html": [
       "<div>\n",
       "<style scoped>\n",
       "    .dataframe tbody tr th:only-of-type {\n",
       "        vertical-align: middle;\n",
       "    }\n",
       "\n",
       "    .dataframe tbody tr th {\n",
       "        vertical-align: top;\n",
       "    }\n",
       "\n",
       "    .dataframe thead th {\n",
       "        text-align: right;\n",
       "    }\n",
       "</style>\n",
       "<table border=\"1\" class=\"dataframe\">\n",
       "  <thead>\n",
       "    <tr style=\"text-align: right;\">\n",
       "      <th></th>\n",
       "      <th>MAP</th>\n",
       "      <th>NDCG</th>\n",
       "    </tr>\n",
       "  </thead>\n",
       "  <tbody>\n",
       "    <tr>\n",
       "      <th>group1</th>\n",
       "      <td>0.010588</td>\n",
       "      <td>0.103629</td>\n",
       "    </tr>\n",
       "    <tr>\n",
       "      <th>group2</th>\n",
       "      <td>0.010125</td>\n",
       "      <td>0.100240</td>\n",
       "    </tr>\n",
       "    <tr>\n",
       "      <th>group3</th>\n",
       "      <td>0.009554</td>\n",
       "      <td>0.095163</td>\n",
       "    </tr>\n",
       "    <tr>\n",
       "      <th>group4</th>\n",
       "      <td>0.009391</td>\n",
       "      <td>0.093549</td>\n",
       "    </tr>\n",
       "    <tr>\n",
       "      <th>group5</th>\n",
       "      <td>0.009381</td>\n",
       "      <td>0.093522</td>\n",
       "    </tr>\n",
       "    <tr>\n",
       "      <th>group6</th>\n",
       "      <td>0.009283</td>\n",
       "      <td>0.092144</td>\n",
       "    </tr>\n",
       "    <tr>\n",
       "      <th>group7</th>\n",
       "      <td>0.008909</td>\n",
       "      <td>0.088835</td>\n",
       "    </tr>\n",
       "  </tbody>\n",
       "</table>\n",
       "</div>"
      ],
      "text/plain": [
       "             MAP      NDCG\n",
       "group1  0.010588  0.103629\n",
       "group2  0.010125  0.100240\n",
       "group3  0.009554  0.095163\n",
       "group4  0.009391  0.093549\n",
       "group5  0.009381  0.093522\n",
       "group6  0.009283  0.092144\n",
       "group7  0.008909  0.088835"
      ]
     },
     "execution_count": 7,
     "metadata": {},
     "output_type": "execute_result"
    }
   ],
   "source": [
    "results = evaluate_recommendations(recommends, GROUPS_LIST)\n",
    "results"
   ]
  },
  {
   "cell_type": "code",
   "execution_count": 8,
   "metadata": {},
   "outputs": [
    {
     "data": {
      "text/plain": [
       "True"
      ]
     },
     "execution_count": 8,
     "metadata": {},
     "output_type": "execute_result"
    }
   ],
   "source": [
    "task.upload_artifact('metrics', results)"
   ]
  },
  {
   "cell_type": "code",
   "execution_count": 9,
   "metadata": {},
   "outputs": [],
   "source": [
    "task.close()"
   ]
  }
 ],
 "metadata": {
  "kernelspec": {
   "display_name": ".venv",
   "language": "python",
   "name": "python3"
  },
  "language_info": {
   "codemirror_mode": {
    "name": "ipython",
    "version": 3
   },
   "file_extension": ".py",
   "mimetype": "text/x-python",
   "name": "python",
   "nbconvert_exporter": "python",
   "pygments_lexer": "ipython3",
   "version": "3.11.0"
  },
  "orig_nbformat": 4
 },
 "nbformat": 4,
 "nbformat_minor": 2
}
