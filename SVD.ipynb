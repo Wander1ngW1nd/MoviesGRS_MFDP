{
 "cells": [
  {
   "cell_type": "code",
   "execution_count": 1,
   "metadata": {},
   "outputs": [
    {
     "data": {
      "text/plain": [
       "True"
      ]
     },
     "execution_count": 1,
     "metadata": {},
     "output_type": "execute_result"
    }
   ],
   "source": [
    "import os\n",
    "import pickle\n",
    "import pandas as pd\n",
    "import numpy as np\n",
    "np.random.seed(42)\n",
    "\n",
    "from evaluation import generate_recommendations, evaluate_recommendations\n",
    "from recommender_data_preprocessor import get_recommender_data\n",
    "\n",
    "from surprise import Dataset, Reader, SVD\n",
    "\n",
    "import clearml\n",
    "\n",
    "from dotenv import load_dotenv\n",
    "load_dotenv()"
   ]
  },
  {
   "cell_type": "code",
   "execution_count": 2,
   "metadata": {},
   "outputs": [
    {
     "name": "stdout",
     "output_type": "stream",
     "text": [
      "ClearML Task: created new task id=bae45d91eb274416b3fad843420adf4b\n",
      "2023-06-01 22:22:08,367 - clearml.Task - INFO - Storing jupyter notebook directly as code\n",
      "ClearML results page: https://app.clear.ml/projects/f3cb8157bfe7443abdc531a44bb15332/experiments/bae45d91eb274416b3fad843420adf4b/output/log\n"
     ]
    }
   ],
   "source": [
    "task = clearml.Task.init(\n",
    "    project_name = 'MoviesGRS_MFDP', \n",
    "    task_name = 'SVDRecommender', \n",
    "    tags = ['SVDRecommender', 'Evaluation', 'TimeSeriesSplit']\n",
    ")"
   ]
  },
  {
   "cell_type": "code",
   "execution_count": 3,
   "metadata": {},
   "outputs": [],
   "source": [
    "GROUPS_LIST = [f'group{i}' for i in range(1, 8)]"
   ]
  },
  {
   "cell_type": "code",
   "execution_count": 4,
   "metadata": {},
   "outputs": [],
   "source": [
    "recommender_data = get_recommender_data(GROUPS_LIST)"
   ]
  },
  {
   "cell_type": "code",
   "execution_count": 5,
   "metadata": {},
   "outputs": [],
   "source": [
    "if os.path.exists(f\"svd_trained.pkl\"):\n",
    "    with open(\"svd_trained.pkl\", \"rb\") as f:\n",
    "        svd = pickle.load(f)\n",
    "else:\n",
    "    min_rating = 1\n",
    "    max_rating = 5\n",
    "    \n",
    "    train_data = pd.read_parquet('data/ratings_train.pq')\n",
    "    reader = Reader(rating_scale=(min_rating, max_rating))\n",
    "    surprise_train_dataset = Dataset.load_from_df(train_data[['userId', 'movieId', 'rating']], reader)\n",
    "    trainset = surprise_train_dataset.build_full_trainset()\n",
    "    \n",
    "    svd = SVD(n_factors=17, n_epochs=30)\n",
    "    svd.fit(trainset)\n",
    "    \n",
    "    with open(\"svd_trained.pkl\", \"wb\") as f:\n",
    "        pickle.dump(svd, f)"
   ]
  },
  {
   "attachments": {},
   "cell_type": "markdown",
   "metadata": {},
   "source": [
    "## Average user"
   ]
  },
  {
   "cell_type": "code",
   "execution_count": 6,
   "metadata": {},
   "outputs": [],
   "source": [
    "def recommend(row):\n",
    "    movie_pseudorating = svd.bi[row[\"unwatched\"]] + (\n",
    "        svd.qi[row[\"unwatched\"]] @ np.mean(svd.pu[row[\"userId\"]], axis=0)\n",
    "    )\n",
    "    top_movies = row[\"unwatched\"][np.argsort(-movie_pseudorating)][:10]\n",
    "    return top_movies"
   ]
  },
  {
   "cell_type": "code",
   "execution_count": 7,
   "metadata": {},
   "outputs": [
    {
     "data": {
      "text/html": [
       "<div>\n",
       "<style scoped>\n",
       "    .dataframe tbody tr th:only-of-type {\n",
       "        vertical-align: middle;\n",
       "    }\n",
       "\n",
       "    .dataframe tbody tr th {\n",
       "        vertical-align: top;\n",
       "    }\n",
       "\n",
       "    .dataframe thead th {\n",
       "        text-align: right;\n",
       "    }\n",
       "</style>\n",
       "<table border=\"1\" class=\"dataframe\">\n",
       "  <thead>\n",
       "    <tr style=\"text-align: right;\">\n",
       "      <th></th>\n",
       "      <th>userId</th>\n",
       "      <th>group1</th>\n",
       "      <th>group2</th>\n",
       "      <th>group3</th>\n",
       "      <th>group4</th>\n",
       "      <th>group5</th>\n",
       "      <th>group6</th>\n",
       "      <th>group7</th>\n",
       "      <th>movieId</th>\n",
       "      <th>rating</th>\n",
       "      <th>unwatched</th>\n",
       "      <th>group1_rec</th>\n",
       "      <th>group2_rec</th>\n",
       "      <th>group3_rec</th>\n",
       "      <th>group4_rec</th>\n",
       "      <th>group5_rec</th>\n",
       "      <th>group6_rec</th>\n",
       "      <th>group7_rec</th>\n",
       "    </tr>\n",
       "  </thead>\n",
       "  <tbody>\n",
       "    <tr>\n",
       "      <th>0</th>\n",
       "      <td>1</td>\n",
       "      <td>1</td>\n",
       "      <td>14465</td>\n",
       "      <td>39625</td>\n",
       "      <td>6774</td>\n",
       "      <td>4424</td>\n",
       "      <td>23830</td>\n",
       "      <td>7737</td>\n",
       "      <td>[613, 176, 734, 114, 270, 485, 352, 201, 571, ...</td>\n",
       "      <td>[5.0, 5.0, 5.0, 5.0, 4.5, 4.5, 4.5, 4.5, 4.5, ...</td>\n",
       "      <td>[22, 80, 14, 26, 310, 376, 99, 96, 75, 70, 74,...</td>\n",
       "      <td>[240, 245, 62, 309, 107, 83, 109, 597, 243, 216]</td>\n",
       "      <td>[245, 240, 83, 110, 107, 109, 303, 92, 238, 216]</td>\n",
       "      <td>[85, 65, 248, 309, 25, 241, 216, 52, 250, 597]</td>\n",
       "      <td>[83, 240, 71, 245, 110, 92, 238, 309, 86, 18]</td>\n",
       "      <td>[240, 243, 62, 92, 245, 83, 126, 308, 341, 246]</td>\n",
       "      <td>[83, 240, 62, 110, 309, 596, 103, 341, 377, 92]</td>\n",
       "      <td>[83, 596, 377, 110, 240, 360, 241, 25, 309, 92]</td>\n",
       "    </tr>\n",
       "  </tbody>\n",
       "</table>\n",
       "</div>"
      ],
      "text/plain": [
       "   userId  group1  group2  group3  group4  group5  group6  group7   \n",
       "0       1       1   14465   39625    6774    4424   23830    7737  \\\n",
       "\n",
       "                                             movieId   \n",
       "0  [613, 176, 734, 114, 270, 485, 352, 201, 571, ...  \\\n",
       "\n",
       "                                              rating   \n",
       "0  [5.0, 5.0, 5.0, 5.0, 4.5, 4.5, 4.5, 4.5, 4.5, ...  \\\n",
       "\n",
       "                                           unwatched   \n",
       "0  [22, 80, 14, 26, 310, 376, 99, 96, 75, 70, 74,...  \\\n",
       "\n",
       "                                         group1_rec   \n",
       "0  [240, 245, 62, 309, 107, 83, 109, 597, 243, 216]  \\\n",
       "\n",
       "                                         group2_rec   \n",
       "0  [245, 240, 83, 110, 107, 109, 303, 92, 238, 216]  \\\n",
       "\n",
       "                                       group3_rec   \n",
       "0  [85, 65, 248, 309, 25, 241, 216, 52, 250, 597]  \\\n",
       "\n",
       "                                      group4_rec   \n",
       "0  [83, 240, 71, 245, 110, 92, 238, 309, 86, 18]  \\\n",
       "\n",
       "                                        group5_rec   \n",
       "0  [240, 243, 62, 92, 245, 83, 126, 308, 341, 246]  \\\n",
       "\n",
       "                                        group6_rec   \n",
       "0  [83, 240, 62, 110, 309, 596, 103, 341, 377, 92]  \\\n",
       "\n",
       "                                        group7_rec  \n",
       "0  [83, 596, 377, 110, 240, 360, 241, 25, 309, 92]  "
      ]
     },
     "execution_count": 7,
     "metadata": {},
     "output_type": "execute_result"
    }
   ],
   "source": [
    "recommends = generate_recommendations(recommend, recommender_data, GROUPS_LIST)\n",
    "recommends.head(1)"
   ]
  },
  {
   "cell_type": "code",
   "execution_count": 8,
   "metadata": {},
   "outputs": [
    {
     "name": "stdout",
     "output_type": "stream",
     "text": [
      "ClearML Monitor: Could not detect iteration reporting, falling back to iterations as seconds-from-start\n"
     ]
    },
    {
     "data": {
      "text/html": [
       "<div>\n",
       "<style scoped>\n",
       "    .dataframe tbody tr th:only-of-type {\n",
       "        vertical-align: middle;\n",
       "    }\n",
       "\n",
       "    .dataframe tbody tr th {\n",
       "        vertical-align: top;\n",
       "    }\n",
       "\n",
       "    .dataframe thead th {\n",
       "        text-align: right;\n",
       "    }\n",
       "</style>\n",
       "<table border=\"1\" class=\"dataframe\">\n",
       "  <thead>\n",
       "    <tr style=\"text-align: right;\">\n",
       "      <th></th>\n",
       "      <th>MAP</th>\n",
       "      <th>NDCG</th>\n",
       "    </tr>\n",
       "  </thead>\n",
       "  <tbody>\n",
       "    <tr>\n",
       "      <th>group1</th>\n",
       "      <td>0.013029</td>\n",
       "      <td>0.119228</td>\n",
       "    </tr>\n",
       "    <tr>\n",
       "      <th>group2</th>\n",
       "      <td>0.013027</td>\n",
       "      <td>0.117886</td>\n",
       "    </tr>\n",
       "    <tr>\n",
       "      <th>group3</th>\n",
       "      <td>0.012804</td>\n",
       "      <td>0.115516</td>\n",
       "    </tr>\n",
       "    <tr>\n",
       "      <th>group4</th>\n",
       "      <td>0.012553</td>\n",
       "      <td>0.113020</td>\n",
       "    </tr>\n",
       "    <tr>\n",
       "      <th>group5</th>\n",
       "      <td>0.012593</td>\n",
       "      <td>0.113308</td>\n",
       "    </tr>\n",
       "    <tr>\n",
       "      <th>group6</th>\n",
       "      <td>0.012281</td>\n",
       "      <td>0.111050</td>\n",
       "    </tr>\n",
       "    <tr>\n",
       "      <th>group7</th>\n",
       "      <td>0.012091</td>\n",
       "      <td>0.109125</td>\n",
       "    </tr>\n",
       "  </tbody>\n",
       "</table>\n",
       "</div>"
      ],
      "text/plain": [
       "             MAP      NDCG\n",
       "group1  0.013029  0.119228\n",
       "group2  0.013027  0.117886\n",
       "group3  0.012804  0.115516\n",
       "group4  0.012553  0.113020\n",
       "group5  0.012593  0.113308\n",
       "group6  0.012281  0.111050\n",
       "group7  0.012091  0.109125"
      ]
     },
     "execution_count": 8,
     "metadata": {},
     "output_type": "execute_result"
    }
   ],
   "source": [
    "average_user_results = evaluate_recommendations(recommends, GROUPS_LIST)\n",
    "average_user_results"
   ]
  },
  {
   "attachments": {},
   "cell_type": "markdown",
   "metadata": {},
   "source": [
    "## Group Sum"
   ]
  },
  {
   "cell_type": "code",
   "execution_count": 9,
   "metadata": {},
   "outputs": [],
   "source": [
    "def recommend(row):\n",
    "    movie_pseudorating = svd.bi[row[\"unwatched\"]] + (\n",
    "        np.sum(svd.qi[row[\"unwatched\"]] @ svd.pu[row[\"userId\"]].T, axis=1)\n",
    "    )\n",
    "    movie_pseudorating.sum()\n",
    "    top_movies = row[\"unwatched\"][np.argsort(-movie_pseudorating)][:10]\n",
    "    return top_movies"
   ]
  },
  {
   "cell_type": "code",
   "execution_count": 10,
   "metadata": {},
   "outputs": [
    {
     "data": {
      "text/html": [
       "<div>\n",
       "<style scoped>\n",
       "    .dataframe tbody tr th:only-of-type {\n",
       "        vertical-align: middle;\n",
       "    }\n",
       "\n",
       "    .dataframe tbody tr th {\n",
       "        vertical-align: top;\n",
       "    }\n",
       "\n",
       "    .dataframe thead th {\n",
       "        text-align: right;\n",
       "    }\n",
       "</style>\n",
       "<table border=\"1\" class=\"dataframe\">\n",
       "  <thead>\n",
       "    <tr style=\"text-align: right;\">\n",
       "      <th></th>\n",
       "      <th>userId</th>\n",
       "      <th>group1</th>\n",
       "      <th>group2</th>\n",
       "      <th>group3</th>\n",
       "      <th>group4</th>\n",
       "      <th>group5</th>\n",
       "      <th>group6</th>\n",
       "      <th>group7</th>\n",
       "      <th>movieId</th>\n",
       "      <th>rating</th>\n",
       "      <th>unwatched</th>\n",
       "      <th>group1_rec</th>\n",
       "      <th>group2_rec</th>\n",
       "      <th>group3_rec</th>\n",
       "      <th>group4_rec</th>\n",
       "      <th>group5_rec</th>\n",
       "      <th>group6_rec</th>\n",
       "      <th>group7_rec</th>\n",
       "    </tr>\n",
       "  </thead>\n",
       "  <tbody>\n",
       "    <tr>\n",
       "      <th>0</th>\n",
       "      <td>1</td>\n",
       "      <td>1</td>\n",
       "      <td>14465</td>\n",
       "      <td>39625</td>\n",
       "      <td>6774</td>\n",
       "      <td>4424</td>\n",
       "      <td>23830</td>\n",
       "      <td>7737</td>\n",
       "      <td>[613, 176, 734, 114, 270, 485, 352, 201, 571, ...</td>\n",
       "      <td>[5.0, 5.0, 5.0, 5.0, 4.5, 4.5, 4.5, 4.5, 4.5, ...</td>\n",
       "      <td>[22, 80, 14, 26, 310, 376, 99, 96, 75, 70, 74,...</td>\n",
       "      <td>[240, 245, 62, 309, 107, 83, 109, 597, 243, 216]</td>\n",
       "      <td>[245, 107, 109, 303, 240, 110, 216, 439, 238, ...</td>\n",
       "      <td>[85, 248, 250, 52, 65, 309, 216, 25, 597, 241]</td>\n",
       "      <td>[107, 109, 245, 284, 240, 282, 303, 71, 439, 373]</td>\n",
       "      <td>[240, 245, 107, 243, 308, 283, 109, 92, 303, 62]</td>\n",
       "      <td>[240, 107, 341, 109, 284, 62, 439, 309, 110, 499]</td>\n",
       "      <td>[360, 606, 596, 492, 377, 416, 118, 282, 110, ...</td>\n",
       "    </tr>\n",
       "  </tbody>\n",
       "</table>\n",
       "</div>"
      ],
      "text/plain": [
       "   userId  group1  group2  group3  group4  group5  group6  group7   \n",
       "0       1       1   14465   39625    6774    4424   23830    7737  \\\n",
       "\n",
       "                                             movieId   \n",
       "0  [613, 176, 734, 114, 270, 485, 352, 201, 571, ...  \\\n",
       "\n",
       "                                              rating   \n",
       "0  [5.0, 5.0, 5.0, 5.0, 4.5, 4.5, 4.5, 4.5, 4.5, ...  \\\n",
       "\n",
       "                                           unwatched   \n",
       "0  [22, 80, 14, 26, 310, 376, 99, 96, 75, 70, 74,...  \\\n",
       "\n",
       "                                         group1_rec   \n",
       "0  [240, 245, 62, 309, 107, 83, 109, 597, 243, 216]  \\\n",
       "\n",
       "                                          group2_rec   \n",
       "0  [245, 107, 109, 303, 240, 110, 216, 439, 238, ...  \\\n",
       "\n",
       "                                       group3_rec   \n",
       "0  [85, 248, 250, 52, 65, 309, 216, 25, 597, 241]  \\\n",
       "\n",
       "                                          group4_rec   \n",
       "0  [107, 109, 245, 284, 240, 282, 303, 71, 439, 373]  \\\n",
       "\n",
       "                                         group5_rec   \n",
       "0  [240, 245, 107, 243, 308, 283, 109, 92, 303, 62]  \\\n",
       "\n",
       "                                          group6_rec   \n",
       "0  [240, 107, 341, 109, 284, 62, 439, 309, 110, 499]  \\\n",
       "\n",
       "                                          group7_rec  \n",
       "0  [360, 606, 596, 492, 377, 416, 118, 282, 110, ...  "
      ]
     },
     "execution_count": 10,
     "metadata": {},
     "output_type": "execute_result"
    }
   ],
   "source": [
    "recommends = generate_recommendations(recommend, recommender_data, GROUPS_LIST)\n",
    "recommends.head(1)"
   ]
  },
  {
   "cell_type": "code",
   "execution_count": 11,
   "metadata": {},
   "outputs": [
    {
     "data": {
      "text/html": [
       "<div>\n",
       "<style scoped>\n",
       "    .dataframe tbody tr th:only-of-type {\n",
       "        vertical-align: middle;\n",
       "    }\n",
       "\n",
       "    .dataframe tbody tr th {\n",
       "        vertical-align: top;\n",
       "    }\n",
       "\n",
       "    .dataframe thead th {\n",
       "        text-align: right;\n",
       "    }\n",
       "</style>\n",
       "<table border=\"1\" class=\"dataframe\">\n",
       "  <thead>\n",
       "    <tr style=\"text-align: right;\">\n",
       "      <th></th>\n",
       "      <th>MAP</th>\n",
       "      <th>NDCG</th>\n",
       "    </tr>\n",
       "  </thead>\n",
       "  <tbody>\n",
       "    <tr>\n",
       "      <th>group1</th>\n",
       "      <td>0.013029</td>\n",
       "      <td>0.119228</td>\n",
       "    </tr>\n",
       "    <tr>\n",
       "      <th>group2</th>\n",
       "      <td>0.011667</td>\n",
       "      <td>0.109666</td>\n",
       "    </tr>\n",
       "    <tr>\n",
       "      <th>group3</th>\n",
       "      <td>0.010804</td>\n",
       "      <td>0.103025</td>\n",
       "    </tr>\n",
       "    <tr>\n",
       "      <th>group4</th>\n",
       "      <td>0.010118</td>\n",
       "      <td>0.097659</td>\n",
       "    </tr>\n",
       "    <tr>\n",
       "      <th>group5</th>\n",
       "      <td>0.010304</td>\n",
       "      <td>0.098881</td>\n",
       "    </tr>\n",
       "    <tr>\n",
       "      <th>group6</th>\n",
       "      <td>0.009949</td>\n",
       "      <td>0.096097</td>\n",
       "    </tr>\n",
       "    <tr>\n",
       "      <th>group7</th>\n",
       "      <td>0.009546</td>\n",
       "      <td>0.093057</td>\n",
       "    </tr>\n",
       "  </tbody>\n",
       "</table>\n",
       "</div>"
      ],
      "text/plain": [
       "             MAP      NDCG\n",
       "group1  0.013029  0.119228\n",
       "group2  0.011667  0.109666\n",
       "group3  0.010804  0.103025\n",
       "group4  0.010118  0.097659\n",
       "group5  0.010304  0.098881\n",
       "group6  0.009949  0.096097\n",
       "group7  0.009546  0.093057"
      ]
     },
     "execution_count": 11,
     "metadata": {},
     "output_type": "execute_result"
    }
   ],
   "source": [
    "group_sum_results = evaluate_recommendations(recommends, GROUPS_LIST)\n",
    "group_sum_results"
   ]
  },
  {
   "cell_type": "code",
   "execution_count": 12,
   "metadata": {},
   "outputs": [
    {
     "data": {
      "text/plain": [
       "True"
      ]
     },
     "execution_count": 12,
     "metadata": {},
     "output_type": "execute_result"
    }
   ],
   "source": [
    "task.upload_artifact('avg_user_metrics', average_user_results)\n",
    "task.upload_artifact('group_sum_metrics', group_sum_results)"
   ]
  },
  {
   "cell_type": "code",
   "execution_count": 13,
   "metadata": {},
   "outputs": [],
   "source": [
    "task.close()"
   ]
  }
 ],
 "metadata": {
  "kernelspec": {
   "display_name": ".venv",
   "language": "python",
   "name": "python3"
  },
  "language_info": {
   "codemirror_mode": {
    "name": "ipython",
    "version": 3
   },
   "file_extension": ".py",
   "mimetype": "text/x-python",
   "name": "python",
   "nbconvert_exporter": "python",
   "pygments_lexer": "ipython3",
   "version": "3.11.0"
  },
  "orig_nbformat": 4
 },
 "nbformat": 4,
 "nbformat_minor": 2
}
