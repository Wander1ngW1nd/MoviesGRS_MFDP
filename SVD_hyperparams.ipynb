{
 "cells": [
  {
   "cell_type": "code",
   "execution_count": 1,
   "metadata": {},
   "outputs": [
    {
     "data": {
      "text/plain": [
       "True"
      ]
     },
     "execution_count": 1,
     "metadata": {},
     "output_type": "execute_result"
    }
   ],
   "source": [
    "import pandas as pd\n",
    "import numpy as np\n",
    "\n",
    "from sklearn.metrics import ndcg_score, average_precision_score\n",
    "from surprise import Dataset, Reader, SVD\n",
    "from surprise.model_selection import GridSearchCV\n",
    "\n",
    "from clearml import Task\n",
    "from clearml.automation import UniformParameterRange, UniformIntegerParameterRange\n",
    "from clearml.automation import HyperParameterOptimizer\n",
    "from clearml.automation.optuna import OptimizerOptuna\n",
    "\n",
    "from dotenv import load_dotenv\n",
    "load_dotenv()"
   ]
  },
  {
   "cell_type": "code",
   "execution_count": 2,
   "metadata": {},
   "outputs": [
    {
     "data": {
      "text/html": [
       "<div>\n",
       "<style scoped>\n",
       "    .dataframe tbody tr th:only-of-type {\n",
       "        vertical-align: middle;\n",
       "    }\n",
       "\n",
       "    .dataframe tbody tr th {\n",
       "        vertical-align: top;\n",
       "    }\n",
       "\n",
       "    .dataframe thead th {\n",
       "        text-align: right;\n",
       "    }\n",
       "</style>\n",
       "<table border=\"1\" class=\"dataframe\">\n",
       "  <thead>\n",
       "    <tr style=\"text-align: right;\">\n",
       "      <th></th>\n",
       "      <th>userId</th>\n",
       "      <th>movieId</th>\n",
       "      <th>rating</th>\n",
       "      <th>group5</th>\n",
       "      <th>group6</th>\n",
       "      <th>group7</th>\n",
       "    </tr>\n",
       "  </thead>\n",
       "  <tbody>\n",
       "    <tr>\n",
       "      <th>0</th>\n",
       "      <td>41988</td>\n",
       "      <td>790</td>\n",
       "      <td>4.0</td>\n",
       "      <td>31361</td>\n",
       "      <td>14281</td>\n",
       "      <td>11298</td>\n",
       "    </tr>\n",
       "    <tr>\n",
       "      <th>1</th>\n",
       "      <td>41988</td>\n",
       "      <td>524</td>\n",
       "      <td>3.0</td>\n",
       "      <td>31361</td>\n",
       "      <td>14281</td>\n",
       "      <td>11298</td>\n",
       "    </tr>\n",
       "    <tr>\n",
       "      <th>2</th>\n",
       "      <td>41988</td>\n",
       "      <td>608</td>\n",
       "      <td>4.0</td>\n",
       "      <td>31361</td>\n",
       "      <td>14281</td>\n",
       "      <td>11298</td>\n",
       "    </tr>\n",
       "    <tr>\n",
       "      <th>3</th>\n",
       "      <td>41988</td>\n",
       "      <td>695</td>\n",
       "      <td>3.0</td>\n",
       "      <td>31361</td>\n",
       "      <td>14281</td>\n",
       "      <td>11298</td>\n",
       "    </tr>\n",
       "    <tr>\n",
       "      <th>4</th>\n",
       "      <td>41988</td>\n",
       "      <td>566</td>\n",
       "      <td>4.0</td>\n",
       "      <td>31361</td>\n",
       "      <td>14281</td>\n",
       "      <td>11298</td>\n",
       "    </tr>\n",
       "    <tr>\n",
       "      <th>...</th>\n",
       "      <td>...</td>\n",
       "      <td>...</td>\n",
       "      <td>...</td>\n",
       "      <td>...</td>\n",
       "      <td>...</td>\n",
       "      <td>...</td>\n",
       "    </tr>\n",
       "    <tr>\n",
       "      <th>3596663</th>\n",
       "      <td>7343</td>\n",
       "      <td>164</td>\n",
       "      <td>5.0</td>\n",
       "      <td>17403</td>\n",
       "      <td>2054</td>\n",
       "      <td>4080</td>\n",
       "    </tr>\n",
       "    <tr>\n",
       "      <th>3596664</th>\n",
       "      <td>7343</td>\n",
       "      <td>193</td>\n",
       "      <td>4.0</td>\n",
       "      <td>17403</td>\n",
       "      <td>2054</td>\n",
       "      <td>4080</td>\n",
       "    </tr>\n",
       "    <tr>\n",
       "      <th>3596665</th>\n",
       "      <td>7343</td>\n",
       "      <td>253</td>\n",
       "      <td>4.0</td>\n",
       "      <td>17403</td>\n",
       "      <td>2054</td>\n",
       "      <td>4080</td>\n",
       "    </tr>\n",
       "    <tr>\n",
       "      <th>3596666</th>\n",
       "      <td>7343</td>\n",
       "      <td>483</td>\n",
       "      <td>2.0</td>\n",
       "      <td>17403</td>\n",
       "      <td>2054</td>\n",
       "      <td>4080</td>\n",
       "    </tr>\n",
       "    <tr>\n",
       "      <th>3596667</th>\n",
       "      <td>7343</td>\n",
       "      <td>497</td>\n",
       "      <td>3.0</td>\n",
       "      <td>17403</td>\n",
       "      <td>2054</td>\n",
       "      <td>4080</td>\n",
       "    </tr>\n",
       "  </tbody>\n",
       "</table>\n",
       "<p>3596668 rows × 6 columns</p>\n",
       "</div>"
      ],
      "text/plain": [
       "         userId  movieId  rating  group5  group6  group7\n",
       "0         41988      790     4.0   31361   14281   11298\n",
       "1         41988      524     3.0   31361   14281   11298\n",
       "2         41988      608     4.0   31361   14281   11298\n",
       "3         41988      695     3.0   31361   14281   11298\n",
       "4         41988      566     4.0   31361   14281   11298\n",
       "...         ...      ...     ...     ...     ...     ...\n",
       "3596663    7343      164     5.0   17403    2054    4080\n",
       "3596664    7343      193     4.0   17403    2054    4080\n",
       "3596665    7343      253     4.0   17403    2054    4080\n",
       "3596666    7343      483     2.0   17403    2054    4080\n",
       "3596667    7343      497     3.0   17403    2054    4080\n",
       "\n",
       "[3596668 rows x 6 columns]"
      ]
     },
     "execution_count": 2,
     "metadata": {},
     "output_type": "execute_result"
    }
   ],
   "source": [
    "data_path = 'data/'\n",
    "train_data = pd.read_parquet(data_path + 'ratings_train.pq')\n",
    "test_data = pd.read_parquet(data_path + 'ratings_test.pq')\n",
    "groups5 = pd.read_parquet(data_path + 'groups5.pq')\n",
    "groups6 = pd.read_parquet(data_path + 'groups6.pq')\n",
    "groups7 = pd.read_parquet(data_path + 'groups7.pq')\n",
    "\n",
    "for i, group in enumerate([groups5, groups6, groups7]):\n",
    "    test_data = test_data.merge(group, on='userId').rename(columns={'group': f'group{i+5}'})\n",
    "del groups5, groups6, groups7\n",
    "test_data"
   ]
  },
  {
   "cell_type": "code",
   "execution_count": 3,
   "metadata": {},
   "outputs": [
    {
     "name": "stdout",
     "output_type": "stream",
     "text": [
      "ClearML Task: created new task id=7c6ccd3fcd294026829e5c2f3a67ba63\n",
      "2023-05-29 00:08:11,008 - clearml.Task - INFO - Storing jupyter notebook directly as code\n",
      "ClearML results page: https://app.clear.ml/projects/f3cb8157bfe7443abdc531a44bb15332/experiments/7c6ccd3fcd294026829e5c2f3a67ba63/output/log\n"
     ]
    }
   ],
   "source": [
    "task = Task.init(\n",
    "    project_name = 'MoviesGRS_MFDP', \n",
    "    task_name = 'SVDRecommender', \n",
    "    task_type=Task.TaskTypes.optimizer,\n",
    "    tags = ['SVD', 'HyperParameterTuning'],\n",
    "    reuse_last_task_id=True\n",
    ")"
   ]
  },
  {
   "cell_type": "code",
   "execution_count": 4,
   "metadata": {},
   "outputs": [],
   "source": [
    "min_rating = 1\n",
    "max_rating = 5\n",
    " \n",
    "reader = Reader(rating_scale=(min_rating, max_rating))\n",
    "surprise_train_dataset = Dataset.load_from_df(train_data[['userId', 'movieId', 'rating']], reader)\n",
    "del train_data"
   ]
  },
  {
   "cell_type": "code",
   "execution_count": 5,
   "metadata": {},
   "outputs": [
    {
     "name": "stdout",
     "output_type": "stream",
     "text": [
      "ClearML Monitor: Could not detect iteration reporting, falling back to iterations as seconds-from-start\n"
     ]
    }
   ],
   "source": [
    "param_grid = {\n",
    "  'n_factors': [75, 100, 125],\n",
    "  'n_epochs': [25, 50, 75]\n",
    "}\n",
    "\n",
    "gs = GridSearchCV(SVD, param_grid, measures=['rmse', 'mae'], cv=2)\n",
    "gs.fit(surprise_train_dataset)"
   ]
  },
  {
   "cell_type": "code",
   "execution_count": 6,
   "metadata": {},
   "outputs": [
    {
     "name": "stdout",
     "output_type": "stream",
     "text": [
      "{'rmse': 0.8260481067360091, 'mae': 0.6250276877525159}\n",
      "{'rmse': {'n_factors': 75, 'n_epochs': 25}, 'mae': {'n_factors': 75, 'n_epochs': 25}}\n"
     ]
    }
   ],
   "source": [
    "print(gs.best_score)\n",
    "print(gs.best_params)"
   ]
  },
  {
   "cell_type": "code",
   "execution_count": 7,
   "metadata": {},
   "outputs": [],
   "source": [
    "param_grid = {\n",
    "  'n_factors': [25, 50, 75],\n",
    "  'n_epochs': [10, 15, 25]\n",
    "}\n",
    " \n",
    "gs2 = GridSearchCV(SVD, param_grid, measures=['rmse', 'mae'], cv=2)\n",
    "gs2.fit(surprise_train_dataset)"
   ]
  },
  {
   "cell_type": "code",
   "execution_count": 8,
   "metadata": {},
   "outputs": [
    {
     "name": "stdout",
     "output_type": "stream",
     "text": [
      "{'rmse': 0.823731995095111, 'mae': 0.6224853277777231}\n",
      "{'rmse': {'n_factors': 25, 'n_epochs': 25}, 'mae': {'n_factors': 25, 'n_epochs': 25}}\n"
     ]
    }
   ],
   "source": [
    "print(gs2.best_score)\n",
    "print(gs2.best_params)"
   ]
  },
  {
   "cell_type": "code",
   "execution_count": 9,
   "metadata": {},
   "outputs": [],
   "source": [
    "param_grid = {\n",
    "  'n_factors': [10, 17, 25],\n",
    "  'n_epochs': [25, 30, 35]\n",
    "}\n",
    " \n",
    "gs3 = GridSearchCV(SVD, param_grid, measures=['rmse', 'mae'], cv=2)\n",
    "gs3.fit(surprise_train_dataset)"
   ]
  },
  {
   "cell_type": "code",
   "execution_count": 10,
   "metadata": {},
   "outputs": [
    {
     "name": "stdout",
     "output_type": "stream",
     "text": [
      "{'rmse': 0.8218143757251857, 'mae': 0.6202771955576911}\n",
      "{'rmse': {'n_factors': 17, 'n_epochs': 30}, 'mae': {'n_factors': 17, 'n_epochs': 30}}\n"
     ]
    }
   ],
   "source": [
    "print(gs3.best_score)\n",
    "print(gs3.best_params)"
   ]
  },
  {
   "cell_type": "code",
   "execution_count": 12,
   "metadata": {},
   "outputs": [],
   "source": [
    "task.close()"
   ]
  },
  {
   "cell_type": "code",
   "execution_count": null,
   "metadata": {},
   "outputs": [],
   "source": []
  }
 ],
 "metadata": {
  "kernelspec": {
   "display_name": ".venv",
   "language": "python",
   "name": "python3"
  },
  "language_info": {
   "codemirror_mode": {
    "name": "ipython",
    "version": 3
   },
   "file_extension": ".py",
   "mimetype": "text/x-python",
   "name": "python",
   "nbconvert_exporter": "python",
   "pygments_lexer": "ipython3",
   "version": "3.11.0"
  },
  "orig_nbformat": 4
 },
 "nbformat": 4,
 "nbformat_minor": 2
}
