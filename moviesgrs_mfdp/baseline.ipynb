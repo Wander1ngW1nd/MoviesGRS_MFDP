{
 "cells": [
  {
   "cell_type": "code",
   "execution_count": null,
   "metadata": {},
   "outputs": [],
   "source": [
    "import pandas as pd\n",
    "import numpy as np\n",
    "from sklearn.metrics import ndcg_score, average_precision_score\n",
    "\n",
    "import clearml\n",
    "\n",
    "from dotenv import load_dotenv\n",
    "load_dotenv()"
   ]
  },
  {
   "cell_type": "code",
   "execution_count": null,
   "metadata": {},
   "outputs": [],
   "source": [
    "data_path = 'data/'\n",
    "train_data = pd.read_parquet(data_path + 'ratings_train.pq')\n",
    "test_data = pd.read_parquet(data_path + 'ratings_test.pq')\n",
    "groups5 = pd.read_parquet(data_path + 'groups5.pq')\n",
    "groups6 = pd.read_parquet(data_path + 'groups6.pq')\n",
    "groups7 = pd.read_parquet(data_path + 'groups7.pq')"
   ]
  },
  {
   "cell_type": "code",
   "execution_count": null,
   "metadata": {},
   "outputs": [],
   "source": [
    "for i, group in enumerate([groups5, groups6, groups7]):\n",
    "    test_data = test_data.merge(group, on='userId').rename(columns={'group': f'group{i+5}'})\n",
    "test_data"
   ]
  },
  {
   "cell_type": "code",
   "execution_count": null,
   "metadata": {},
   "outputs": [],
   "source": [
    "task = clearml.Task.init(\n",
    "    project_name = 'MoviesGRS_MFDP', \n",
    "    task_name = 'PopularMoviesRecommender', \n",
    "    tags = ['Baseline','PopularMoviesRecommender']\n",
    ")"
   ]
  },
  {
   "cell_type": "code",
   "execution_count": null,
   "metadata": {},
   "outputs": [],
   "source": [
    "top_popular_films = (\n",
    "    train_data\n",
    "    .groupby(by='movieId')\n",
    "    .agg({'userId': 'nunique'})\n",
    "    .sort_values(by='userId', ascending=False)\n",
    "    .rename(columns={'userId': 'userCount'})\n",
    "    .reset_index()\n",
    ")\n",
    "top_popular_films"
   ]
  },
  {
   "cell_type": "code",
   "execution_count": null,
   "metadata": {},
   "outputs": [],
   "source": [
    "top_popular_films_ids = top_popular_films.movieId.values"
   ]
  },
  {
   "cell_type": "code",
   "execution_count": null,
   "metadata": {},
   "outputs": [],
   "source": [
    "users_watch_history_train = (\n",
    "    train_data\n",
    "    .groupby(by='userId')\n",
    "    .agg({'movieId': list})\n",
    "    .reset_index()\n",
    ")\n",
    "users_watch_history_train['unwatched'] = (\n",
    "    users_watch_history_train.movieId\n",
    "    .apply(lambda x: top_popular_films_ids[\n",
    "        np.isin(top_popular_films_ids, x, invert=True)\n",
    "    ][:10])\n",
    ")\n",
    "users_watch_history_train"
   ]
  },
  {
   "cell_type": "code",
   "execution_count": null,
   "metadata": {},
   "outputs": [],
   "source": [
    "recommendation = users_watch_history_train[['userId', 'unwatched']].rename(columns={'unwatched': 'recommendation'})\n",
    "recommendation"
   ]
  },
  {
   "cell_type": "code",
   "execution_count": null,
   "metadata": {},
   "outputs": [],
   "source": [
    "test_data"
   ]
  },
  {
   "cell_type": "code",
   "execution_count": null,
   "metadata": {},
   "outputs": [],
   "source": [
    "users_watch_history_test: pd.DataFrame = (\n",
    "    test_data\n",
    "    .sort_values(by='rating', ascending=False)\n",
    "    .groupby(by='userId')\n",
    "    .agg(\n",
    "        {\n",
    "        **{f'group{i}': 'first' for i in range(5, 8)},\n",
    "        'movieId': list\n",
    "        }\n",
    "    )\n",
    "    .reset_index()\n",
    ")\n",
    "users_watch_history_test"
   ]
  },
  {
   "cell_type": "code",
   "execution_count": null,
   "metadata": {},
   "outputs": [],
   "source": [
    "np.isin([1, 2, 3], [2])"
   ]
  },
  {
   "cell_type": "code",
   "execution_count": null,
   "metadata": {},
   "outputs": [],
   "source": [
    "recom_and_history_test = users_watch_history_test.merge(recommendation, on='userId')"
   ]
  },
  {
   "cell_type": "code",
   "execution_count": null,
   "metadata": {},
   "outputs": [],
   "source": [
    "rec_array = recommendation.values\n",
    "recom_and_history_test['relevance'] = (\n",
    "    recom_and_history_test\n",
    "    .apply(lambda row: np.isin(row['recommendation'], row['movieId']).astype(int), axis=1)\n",
    ")\n",
    "recom_and_history_test"
   ]
  },
  {
   "cell_type": "code",
   "execution_count": null,
   "metadata": {},
   "outputs": [],
   "source": [
    "recom_and_history_test['P_k'] = (\n",
    "    recom_and_history_test.relevance\n",
    "    .apply(lambda x: np.cumsum(x) * x / np.arange(1, len(x) + 1), 2)    \n",
    ")\n",
    "recom_and_history_test['P_k'] = (\n",
    "    recom_and_history_test\n",
    "    .apply(lambda row: row['P_k'].sum() / min(len(row['movieId']), len(row['recommendation'])), axis=1)\n",
    ")\n",
    "recom_and_history_test['P_k'] = (\n",
    "    recom_and_history_test.P_k\n",
    "    .apply(lambda x: np.around(x, 2))\n",
    ")\n",
    "recom_and_history_test"
   ]
  },
  {
   "cell_type": "code",
   "execution_count": null,
   "metadata": {},
   "outputs": [],
   "source": [
    "logger = clearml.Logger.current_logger()"
   ]
  },
  {
   "cell_type": "code",
   "execution_count": null,
   "metadata": {},
   "outputs": [],
   "source": [
    "metrics_results = {}"
   ]
  },
  {
   "cell_type": "code",
   "execution_count": null,
   "metadata": {},
   "outputs": [],
   "source": [
    "for group in [f'group{i}' for i in range(5, 8)]:\n",
    "    metrics_name = f\"MAP_{group}\"\n",
    "    metrics_value = (\n",
    "        recom_and_history_test\n",
    "        .groupby(by=group)\n",
    "        .P_k\n",
    "        .mean()\n",
    "        .mean()\n",
    "    )\n",
    "    \n",
    "    metrics_results[metrics_name] = metrics_value\n",
    "    logger.report_single_value(\n",
    "        name=metrics_name,\n",
    "        value=metrics_value\n",
    "    )"
   ]
  },
  {
   "cell_type": "code",
   "execution_count": null,
   "metadata": {},
   "outputs": [],
   "source": [
    "test_data"
   ]
  },
  {
   "cell_type": "code",
   "execution_count": null,
   "metadata": {},
   "outputs": [],
   "source": [
    "recommend_df = recom_and_history_test[['userId', 'recommendation']].explode('recommendation')\n",
    "recommend_df"
   ]
  },
  {
   "cell_type": "code",
   "execution_count": null,
   "metadata": {},
   "outputs": [],
   "source": [
    "recommend_df = (\n",
    "    recommend_df\n",
    "    .merge(\n",
    "        test_data, \n",
    "        left_on=['userId', 'recommendation'],\n",
    "        right_on=['userId', 'movieId'],\n",
    "        how='left'    \n",
    "    )\n",
    "    [['userId', 'recommendation', 'rating']]\n",
    "    .fillna(0)\n",
    ")\n",
    "recom_and_history_test['rec_ratings'] = (\n",
    "    recommend_df\n",
    "    .groupby(by='userId')\n",
    "    .agg({'rating': list})\n",
    "    .reset_index()\n",
    "    .rating\n",
    ")\n",
    "recom_and_history_test\n"
   ]
  },
  {
   "cell_type": "code",
   "execution_count": null,
   "metadata": {},
   "outputs": [],
   "source": [
    "recom_and_history_test['pseudo_model_output'] = (\n",
    "    recom_and_history_test.recommendation\n",
    "    .apply(lambda x: [(len(x) - i) for i in range(len(x))])\n",
    ")\n",
    "recom_and_history_test"
   ]
  },
  {
   "cell_type": "code",
   "execution_count": null,
   "metadata": {},
   "outputs": [],
   "source": [
    "recom_and_history_test['NDCG_k'] = (\n",
    "    recom_and_history_test.apply(\n",
    "        lambda row: ndcg_score([row['rec_ratings']], [row['pseudo_model_output']]),\n",
    "        axis=1\n",
    "    )\n",
    ")\n"
   ]
  },
  {
   "cell_type": "code",
   "execution_count": null,
   "metadata": {},
   "outputs": [],
   "source": [
    "for group in [f'group{i}' for i in range(5, 8)]:\n",
    "    metrics_name = f\"NDCG_{group}\"\n",
    "    metrics_value = (\n",
    "        recom_and_history_test\n",
    "        .groupby(by=group)\n",
    "        .NDCG_k\n",
    "        .mean()\n",
    "        .mean()\n",
    "    )\n",
    "    \n",
    "    metrics_results[metrics_name] = metrics_value\n",
    "    logger.report_single_value(\n",
    "        name=metrics_name,\n",
    "        value=metrics_value\n",
    "    )"
   ]
  },
  {
   "cell_type": "code",
   "execution_count": null,
   "metadata": {},
   "outputs": [],
   "source": [
    "metrics_results"
   ]
  },
  {
   "cell_type": "code",
   "execution_count": null,
   "metadata": {},
   "outputs": [],
   "source": [
    "metrics_results_2d = {}\n",
    "for res in metrics_results:\n",
    "    m, g = res.split('_')\n",
    "    metrics_results_2d[m] = {**metrics_results_2d.get(m, {}), **{g: metrics_results[res]}}\n",
    "metrics_results_2d"
   ]
  },
  {
   "cell_type": "code",
   "execution_count": null,
   "metadata": {},
   "outputs": [],
   "source": [
    "pd.DataFrame(metrics_results_2d)"
   ]
  },
  {
   "cell_type": "code",
   "execution_count": null,
   "metadata": {},
   "outputs": [],
   "source": [
    "task.upload_artifact('results_df', pd.DataFrame(metrics_results_2d))"
   ]
  },
  {
   "cell_type": "code",
   "execution_count": null,
   "metadata": {},
   "outputs": [],
   "source": [
    "task.close()"
   ]
  }
 ],
 "metadata": {
  "kernelspec": {
   "display_name": ".venv",
   "language": "python",
   "name": "python3"
  },
  "language_info": {
   "codemirror_mode": {
    "name": "ipython",
    "version": 3
   },
   "file_extension": ".py",
   "mimetype": "text/x-python",
   "name": "python",
   "nbconvert_exporter": "python",
   "pygments_lexer": "ipython3",
   "version": "3.11.0"
  },
  "orig_nbformat": 4
 },
 "nbformat": 4,
 "nbformat_minor": 2
}
