{
 "cells": [
  {
   "cell_type": "code",
   "execution_count": null,
   "metadata": {},
   "outputs": [],
   "source": [
    "from functools import reduce\n",
    "\n",
    "import pandas as pd\n",
    "import numpy as np\n",
    "from sklearn.metrics import ndcg_score, average_precision_score\n",
    "\n",
    "import clearml\n",
    "\n",
    "from dotenv import load_dotenv\n",
    "load_dotenv()"
   ]
  },
  {
   "cell_type": "code",
   "execution_count": null,
   "metadata": {},
   "outputs": [],
   "source": [
    "data_path = 'data/'\n",
    "train_data = pd.read_parquet(data_path + 'ratings_train.pq')\n",
    "test_data = pd.read_parquet(data_path + 'ratings_test.pq')\n",
    "groups5 = pd.read_parquet(data_path + 'groups5.pq')\n",
    "groups6 = pd.read_parquet(data_path + 'groups6.pq')\n",
    "groups7 = pd.read_parquet(data_path + 'groups7.pq')"
   ]
  },
  {
   "cell_type": "code",
   "execution_count": null,
   "metadata": {},
   "outputs": [],
   "source": [
    "for i, group in enumerate([groups5, groups6, groups7]):\n",
    "    test_data = test_data.merge(group, on='userId').rename(columns={'group': f'group{i+5}'})\n",
    "test_data"
   ]
  },
  {
   "cell_type": "code",
   "execution_count": null,
   "metadata": {},
   "outputs": [],
   "source": [
    "task = clearml.Task.init(\n",
    "    project_name = 'MoviesGRS_MFDP', \n",
    "    task_name = 'PopularMoviesRecommender', \n",
    "    tags = ['Baseline','PopularMoviesRecommender']\n",
    ")"
   ]
  },
  {
   "cell_type": "code",
   "execution_count": null,
   "metadata": {},
   "outputs": [],
   "source": [
    "top_popular_films = (\n",
    "    train_data\n",
    "    .groupby(by='movieId')\n",
    "    .agg({'userId': 'nunique'})\n",
    "    .sort_values(by='userId', ascending=False)\n",
    "    .rename(columns={'userId': 'userCount'})\n",
    "    .reset_index()\n",
    ")\n",
    "top_popular_films"
   ]
  },
  {
   "cell_type": "code",
   "execution_count": null,
   "metadata": {},
   "outputs": [],
   "source": [
    "top_popular_films_ids = top_popular_films.movieId.values"
   ]
  },
  {
   "cell_type": "code",
   "execution_count": null,
   "metadata": {},
   "outputs": [],
   "source": [
    "users_watch_history_train = (\n",
    "    train_data\n",
    "    .groupby(by='userId')\n",
    "    .agg({'movieId': list})\n",
    "    .reset_index()\n",
    ")\n",
    "users_watch_history_train['unwatched'] = (\n",
    "    users_watch_history_train.movieId\n",
    "    .apply(lambda x: top_popular_films_ids[\n",
    "        np.isin(top_popular_films_ids, x, invert=True)\n",
    "    ])\n",
    ")\n",
    "users_watch_history_train"
   ]
  },
  {
   "cell_type": "code",
   "execution_count": null,
   "metadata": {},
   "outputs": [],
   "source": [
    "recommendation = users_watch_history_train[['userId', 'unwatched']].rename(columns={'unwatched': 'recommendation'})\n",
    "recommendation"
   ]
  },
  {
   "cell_type": "code",
   "execution_count": null,
   "metadata": {},
   "outputs": [],
   "source": [
    "test_data"
   ]
  },
  {
   "cell_type": "code",
   "execution_count": null,
   "metadata": {},
   "outputs": [],
   "source": [
    "users_watch_history_test: pd.DataFrame = (\n",
    "    test_data\n",
    "    .sort_values(by='rating', ascending=False)\n",
    "    .groupby(by='userId')\n",
    "    .agg(\n",
    "        {\n",
    "        **{f'group{i}': 'first' for i in range(5, 8)},\n",
    "        'movieId': list\n",
    "        }\n",
    "    )\n",
    "    .reset_index()\n",
    ")\n",
    "users_watch_history_test"
   ]
  },
  {
   "cell_type": "code",
   "execution_count": null,
   "metadata": {},
   "outputs": [],
   "source": [
    "recom_and_history_test = users_watch_history_test.merge(recommendation, on='userId')\n",
    "recom_and_history_test"
   ]
  },
  {
   "cell_type": "code",
   "execution_count": null,
   "metadata": {},
   "outputs": [],
   "source": [
    "for group in [f'group{i}' for i in range(5, 8)]:\n",
    "    group_recom = (\n",
    "        recom_and_history_test\n",
    "        .groupby(by=group)\n",
    "        .agg({'recommendation': lambda x: reduce(np.intersect1d, x)})\n",
    "        .reset_index()\n",
    "    )\n",
    "\n",
    "    def foo(x):\n",
    "        result = []\n",
    "        for movie in top_popular_films_ids:\n",
    "            if movie in x:\n",
    "                result.append(movie)\n",
    "                if len(result) == 10:\n",
    "                    return result\n",
    "\n",
    "    group_recom['recommendation'] = (\n",
    "        group_recom.recommendation\n",
    "        .apply(foo)\n",
    "    ) \n",
    "\n",
    "    group_recom = group_recom.rename(columns={'recommendation': f'{group}_rec'})\n",
    "\n",
    "    recom_and_history_test = recom_and_history_test.merge(group_recom, on=group)\n",
    "\n",
    "recom_and_history_test.drop(columns='recommendation', inplace=True)"
   ]
  },
  {
   "cell_type": "code",
   "execution_count": null,
   "metadata": {},
   "outputs": [],
   "source": [
    "recom_and_history_test"
   ]
  },
  {
   "cell_type": "code",
   "execution_count": null,
   "metadata": {},
   "outputs": [],
   "source": [
    "for group in [f'group{i}' for i in range(5, 8)]:\n",
    "    rec_array = recommendation.values\n",
    "    recom_and_history_test[f'{group}_relevance'] = (\n",
    "        recom_and_history_test\n",
    "        .apply(lambda row: np.isin(row[f'{group}_rec'], row['movieId']).astype(int), axis=1)\n",
    "    )\n",
    "recom_and_history_test"
   ]
  },
  {
   "cell_type": "code",
   "execution_count": null,
   "metadata": {},
   "outputs": [],
   "source": [
    "for group in [f'group{i}' for i in range(5, 8)]:\n",
    "    recom_and_history_test[f'{group}_P_k'] = (\n",
    "        recom_and_history_test[f'{group}_relevance']\n",
    "        .apply(lambda x: np.cumsum(x) * x / np.arange(1, len(x) + 1), 2)    \n",
    "    )\n",
    "    recom_and_history_test[f'{group}_P_k'] = (\n",
    "        recom_and_history_test\n",
    "        .apply(lambda row: row[f'{group}_P_k'].sum() / min(len(row['movieId']), len(row[f'{group}_rec'])), axis=1)\n",
    "    )\n",
    "    recom_and_history_test[f'{group}_P_k'] = (\n",
    "        recom_and_history_test[f'{group}_P_k']\n",
    "        .apply(lambda x: np.around(x, 2))\n",
    "    )\n",
    "recom_and_history_test"
   ]
  },
  {
   "cell_type": "code",
   "execution_count": null,
   "metadata": {},
   "outputs": [],
   "source": [
    "logger = clearml.Logger.current_logger()"
   ]
  },
  {
   "cell_type": "code",
   "execution_count": null,
   "metadata": {},
   "outputs": [],
   "source": [
    "metrics_results = {}"
   ]
  },
  {
   "cell_type": "code",
   "execution_count": null,
   "metadata": {},
   "outputs": [],
   "source": [
    "for group in [f'group{i}' for i in range(5, 8)]:\n",
    "    metrics_name = f\"MAP_{group}\"\n",
    "    metrics_value = (\n",
    "        recom_and_history_test\n",
    "        .groupby(by=group)\n",
    "        [f'{group}_P_k']\n",
    "        .mean()\n",
    "        .mean()\n",
    "    )\n",
    "    \n",
    "    metrics_results[metrics_name] = metrics_value"
   ]
  },
  {
   "cell_type": "code",
   "execution_count": null,
   "metadata": {},
   "outputs": [],
   "source": [
    "for group in [f'group{i}' for i in range(5, 8)]:    \n",
    "    recommend_df = recom_and_history_test[['userId', f'{group}_rec']].explode(f'{group}_rec')\n",
    "    recommend_df = (\n",
    "        recommend_df\n",
    "        .merge(\n",
    "            test_data, \n",
    "            left_on=['userId', f'{group}_rec'],\n",
    "            right_on=['userId', 'movieId'],\n",
    "            how='left'    \n",
    "        )\n",
    "        [['userId', f'{group}_rec', 'rating']]\n",
    "        .fillna(0)\n",
    "    )\n",
    "    recom_and_history_test[f'{group}_rec_ratings'] = (\n",
    "        recommend_df\n",
    "        .groupby(by='userId')\n",
    "        .agg({'rating': list})\n",
    "        .reset_index()\n",
    "        .rating\n",
    "    )\n",
    "recom_and_history_test\n"
   ]
  },
  {
   "cell_type": "code",
   "execution_count": null,
   "metadata": {},
   "outputs": [],
   "source": [
    "recom_and_history_test['pseudo_model_output'] = (\n",
    "    recom_and_history_test[f'{group}_rec']\n",
    "    .apply(lambda x: [(len(x) - i) for i in range(len(x))])\n",
    ")\n",
    "recom_and_history_test"
   ]
  },
  {
   "cell_type": "code",
   "execution_count": null,
   "metadata": {},
   "outputs": [],
   "source": [
    "for group in [f'group{i}' for i in range(5, 8)]:\n",
    "    recom_and_history_test[f'{group}_NDCG_k'] = (\n",
    "        recom_and_history_test.apply(\n",
    "            lambda row: ndcg_score([row[f'{group}_rec_ratings']], [row['pseudo_model_output']]),\n",
    "            axis=1\n",
    "        )\n",
    "    )\n"
   ]
  },
  {
   "cell_type": "code",
   "execution_count": null,
   "metadata": {},
   "outputs": [],
   "source": [
    "for group in [f'group{i}' for i in range(5, 8)]:\n",
    "    metrics_name = f\"NDCG_{group}\"\n",
    "    metrics_value = (\n",
    "        recom_and_history_test\n",
    "        .groupby(by=group)\n",
    "        [f'{group}_NDCG_k']\n",
    "        .mean()\n",
    "        .mean()\n",
    "    )\n",
    "    \n",
    "    metrics_results[metrics_name] = metrics_value"
   ]
  },
  {
   "cell_type": "code",
   "execution_count": null,
   "metadata": {},
   "outputs": [],
   "source": [
    "metrics_results_2d = {}\n",
    "for res in metrics_results:\n",
    "    m, g = res.split('_')\n",
    "    metrics_results_2d[m] = {**metrics_results_2d.get(m, {}), **{g: metrics_results[res]}}\n",
    "pd.DataFrame(metrics_results_2d)"
   ]
  },
  {
   "cell_type": "code",
   "execution_count": null,
   "metadata": {},
   "outputs": [],
   "source": [
    "task.upload_artifact('metrics_results_df', pd.DataFrame(metrics_results_2d))"
   ]
  },
  {
   "cell_type": "code",
   "execution_count": null,
   "metadata": {},
   "outputs": [],
   "source": [
    "task.close()"
   ]
  }
 ],
 "metadata": {
  "kernelspec": {
   "display_name": ".venv",
   "language": "python",
   "name": "python3"
  },
  "language_info": {
   "codemirror_mode": {
    "name": "ipython",
    "version": 3
   },
   "file_extension": ".py",
   "mimetype": "text/x-python",
   "name": "python",
   "nbconvert_exporter": "python",
   "pygments_lexer": "ipython3",
   "version": "3.11.0"
  },
  "orig_nbformat": 4
 },
 "nbformat": 4,
 "nbformat_minor": 2
}
